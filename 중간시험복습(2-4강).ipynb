{
 "cells": [
  {
   "cell_type": "markdown",
   "metadata": {},
   "source": [
    "# 2강 메서드"
   ]
  },
  {
   "cell_type": "markdown",
   "metadata": {},
   "source": [
    "## 문자열 포맷팅"
   ]
  },
  {
   "cell_type": "markdown",
   "metadata": {},
   "source": [
    "advanced\n",
    "\n",
    "- %20s: 공백을 앞으로 붙이면서 총 20개의 문자열을 완성\n",
    "- %-10d: 공백을 뒤로 붙이면서 총 10개의 숫자를 완성\n",
    "- %.5f: 부동소수점의 소수점 아래 5자리까지 표기\n",
    "\n",
    "숫자는 **전체 자리수**임에 유의\n"
   ]
  },
  {
   "cell_type": "code",
   "execution_count": 3,
   "metadata": {},
   "outputs": [
    {
     "data": {
      "text/plain": [
       "'3.14      '"
      ]
     },
     "execution_count": 3,
     "metadata": {},
     "output_type": "execute_result"
    }
   ],
   "source": [
    "# 소수점(.)도 하나의 문자입니다\n",
    "\"%-10.2f\" % 3.141592"
   ]
  },
  {
   "cell_type": "code",
   "execution_count": 4,
   "metadata": {},
   "outputs": [
    {
     "data": {
      "text/plain": [
       "'20 years old.'"
      ]
     },
     "execution_count": 4,
     "metadata": {},
     "output_type": "execute_result"
    }
   ],
   "source": [
    "# %s는 숫자도 받을 수 있음\n",
    "\n",
    "\"%s years old.\" % 20"
   ]
  },
  {
   "cell_type": "markdown",
   "metadata": {},
   "source": [
    "* 소괄호의 방향: 문자열을 어느 방향으로?\n",
    "* `{:<10}`: 좌측정렬 총 10자리\n",
    "* `{:>10}`: 우측정렬 총 10자리 (소괄호 없이 숫자만 있으면 이게 default)\n",
    "* `{:^10}`: 공백을 양옆에 붙이면서 총 10자리\n",
    "* `{:.5f}`: 소수점 아래 5자리까지 표기\n",
    "* `{:,}`: 천단위 쉼표\n",
    "* `{:!<10}`, `{:?>10}`, `{:!^10}`: 공백을 해당 문자로 채움\n",
    "\n",
    "`{변수:어쩌구저쩌구}` 에서 어쩌구저쩌구의 순서\n",
    "1. 빈칸에 채울 문자\n",
    "2. 정렬 (<, >, ^)\n",
    "3. 총 길이\n",
    "4. 쉼표 (천단위)\n",
    "5. 소숫점 자릿수\n"
   ]
  },
  {
   "cell_type": "code",
   "execution_count": 9,
   "metadata": {},
   "outputs": [
    {
     "name": "stdout",
     "output_type": "stream",
     "text": [
      "5\n"
     ]
    },
    {
     "data": {
      "text/plain": [
       "'a    '"
      ]
     },
     "execution_count": 9,
     "metadata": {},
     "output_type": "execute_result"
    }
   ],
   "source": [
    "ex1 = \"{:<5}\".format('a')\n",
    "print(len(ex1))\n",
    "ex1"
   ]
  },
  {
   "cell_type": "code",
   "execution_count": 11,
   "metadata": {},
   "outputs": [
    {
     "name": "stdout",
     "output_type": "stream",
     "text": [
      "5\n"
     ]
    },
    {
     "data": {
      "text/plain": [
       "'   12'"
      ]
     },
     "execution_count": 11,
     "metadata": {},
     "output_type": "execute_result"
    }
   ],
   "source": [
    "ex2 = \"{:>5}\".format(12)\n",
    "print(len(ex2))\n",
    "ex2"
   ]
  },
  {
   "cell_type": "code",
   "execution_count": 12,
   "metadata": {},
   "outputs": [
    {
     "name": "stdout",
     "output_type": "stream",
     "text": [
      "5\n"
     ]
    },
    {
     "data": {
      "text/plain": [
       "'   12'"
      ]
     },
     "execution_count": 12,
     "metadata": {},
     "output_type": "execute_result"
    }
   ],
   "source": [
    "ex3 = \"{:5}\".format(12)\n",
    "print(len(ex3))\n",
    "ex3"
   ]
  },
  {
   "cell_type": "code",
   "execution_count": 13,
   "metadata": {},
   "outputs": [
    {
     "name": "stdout",
     "output_type": "stream",
     "text": [
      "5\n"
     ]
    },
    {
     "data": {
      "text/plain": [
       "'  a  '"
      ]
     },
     "execution_count": 13,
     "metadata": {},
     "output_type": "execute_result"
    }
   ],
   "source": [
    "ex4 = \"{:^5}\".format(\"a\")\n",
    "print(len(ex4))\n",
    "ex4"
   ]
  },
  {
   "cell_type": "code",
   "execution_count": 14,
   "metadata": {},
   "outputs": [
    {
     "name": "stdout",
     "output_type": "stream",
     "text": [
      "4\n"
     ]
    },
    {
     "data": {
      "text/plain": [
       "' a  '"
      ]
     },
     "execution_count": 14,
     "metadata": {},
     "output_type": "execute_result"
    }
   ],
   "source": [
    "# 짝수개일 땐 뒷 공백이 하나 더 많음\n",
    "ex5 = \"{:^4}\".format(\"a\")\n",
    "print(len(ex5))\n",
    "ex5"
   ]
  },
  {
   "cell_type": "code",
   "execution_count": 15,
   "metadata": {},
   "outputs": [
    {
     "data": {
      "text/plain": [
       "'3.14'"
      ]
     },
     "execution_count": 15,
     "metadata": {},
     "output_type": "execute_result"
    }
   ],
   "source": [
    "\"{:.2f}\".format(3.141592)"
   ]
  },
  {
   "cell_type": "code",
   "execution_count": 16,
   "metadata": {},
   "outputs": [
    {
     "data": {
      "text/plain": [
       "'   3.14   '"
      ]
     },
     "execution_count": 16,
     "metadata": {},
     "output_type": "execute_result"
    }
   ],
   "source": [
    "\"{:^10.2f}\".format(3.141592)"
   ]
  },
  {
   "cell_type": "code",
   "execution_count": 17,
   "metadata": {},
   "outputs": [
    {
     "data": {
      "text/plain": [
       "'***3.14***'"
      ]
     },
     "execution_count": 17,
     "metadata": {},
     "output_type": "execute_result"
    }
   ],
   "source": [
    "\"{:*^10.2f}\".format(3.141592)"
   ]
  },
  {
   "cell_type": "code",
   "execution_count": 18,
   "metadata": {},
   "outputs": [
    {
     "data": {
      "text/plain": [
       "'000000000000000000000000000000000000000123,456,789'"
      ]
     },
     "execution_count": 18,
     "metadata": {},
     "output_type": "execute_result"
    }
   ],
   "source": [
    "num = 123456789\n",
    "f\"{num:0>50,}\""
   ]
  },
  {
   "cell_type": "code",
   "execution_count": 21,
   "metadata": {},
   "outputs": [
    {
     "data": {
      "text/plain": [
       "'0000003.14'"
      ]
     },
     "execution_count": 21,
     "metadata": {},
     "output_type": "execute_result"
    }
   ],
   "source": [
    "# 채우기 문자 -> 정렬 -> 자리수 -> 콤마 -> 소숫점 자릿수\n",
    "num = 3.141592\n",
    "f\"{num:0>10,.2f}\""
   ]
  },
  {
   "cell_type": "markdown",
   "metadata": {},
   "source": [
    "## 정규표현식"
   ]
  },
  {
   "cell_type": "markdown",
   "metadata": {},
   "source": [
    "직접 코딩을 하는 문제는 안 나오지만 결과를 물을 수는 있음"
   ]
  },
  {
   "cell_type": "code",
   "execution_count": 25,
   "metadata": {},
   "outputs": [
    {
     "name": "stdout",
     "output_type": "stream",
     "text": [
      "<re.Match object; span=(0, 6), match='python'>\n"
     ]
    }
   ],
   "source": [
    "# [abc]: a, b, c 중 1개의 문자\n",
    "# +: 1자리 이상\n",
    "import re\n",
    "p = re.compile('[a-z]+')\n",
    "print(p.search(\"python은 훌륭한 programming 언어입니다.\")) # 1번째로 찾은 결과값 return"
   ]
  },
  {
   "cell_type": "code",
   "execution_count": 26,
   "metadata": {},
   "outputs": [
    {
     "name": "stdout",
     "output_type": "stream",
     "text": [
      "None\n"
     ]
    }
   ],
   "source": [
    "print(p.search(\"가나다\"))"
   ]
  },
  {
   "cell_type": "code",
   "execution_count": 27,
   "metadata": {},
   "outputs": [
    {
     "data": {
      "text/plain": [
       "<re.Match object; span=(6, 12), match='은 훌륭한 '>"
      ]
     },
     "execution_count": 27,
     "metadata": {},
     "output_type": "execute_result"
    }
   ],
   "source": [
    "# 한국어 및 공백, 1자리 이상\n",
    "re.search('[가-힣 ]+', 'python은 훌륭한 programming 언어 입니다.')"
   ]
  },
  {
   "cell_type": "code",
   "execution_count": 28,
   "metadata": {},
   "outputs": [
    {
     "data": {
      "text/plain": [
       "'은 훌륭한 '"
      ]
     },
     "execution_count": 28,
     "metadata": {},
     "output_type": "execute_result"
    }
   ],
   "source": [
    "# 객체가 아닌 문자열을 출력\n",
    "m = re.search('[가-힣 ]+', 'python은 훌륭한 programming 언어 입니다.')\n",
    "m.group()"
   ]
  },
  {
   "cell_type": "code",
   "execution_count": 29,
   "metadata": {},
   "outputs": [
    {
     "name": "stdout",
     "output_type": "stream",
     "text": [
      "['python', 'programming']\n"
     ]
    }
   ],
   "source": [
    "# 모든 경우를 찾아보기\n",
    "m = re.findall('[a-z]+', 'python은 훌륭한 programming 언어 입니다.')\n",
    "print(m)"
   ]
  },
  {
   "cell_type": "markdown",
   "metadata": {},
   "source": [
    "정규 표현식 메타 문자\n",
    "\n",
    "<table>\n",
    "<thead>\n",
    "<tr>\n",
    "<th>특수 문자</th>\n",
    "<th>설명</th>\n",
    "</tr>\n",
    "</thead>\n",
    "<tbody>\n",
    "<tr>\n",
    "<td><code>.</code></td>\n",
    "<td>한 개의 임의의 문자를 나타냅니다. (줄바꿈 문자인 <code>\\n</code>는 제외)</td>\n",
    "</tr>\n",
    "<tr>\n",
    "<td><code>?</code></td>\n",
    "<td>앞의 문자가 존재할 수도 있고, 존재하지 않을 수도 있습니다. (문자가 0개 또는 1개)</td>\n",
    "</tr>\n",
    "<tr>\n",
    "<td><code>*</code></td>\n",
    "<td>앞의 문자가 무한개로 존재할 수도 있고, 존재하지 않을 수도 있습니다. (문자가 0개 이상)</td>\n",
    "</tr>\n",
    "<tr>\n",
    "<td><code>+</code></td>\n",
    "<td>앞의 문자가 최소 한 개 이상 존재합니다. (문자가 1개 이상)</td>\n",
    "</tr>\n",
    "<tr>\n",
    "<td><code>^</code></td>\n",
    "<td>뒤의 문자열로 문자열이 시작됩니다.</td>\n",
    "</tr>\n",
    "<tr>\n",
    "<td><code>$</code></td>\n",
    "<td>앞의 문자열로 문자열이 끝납니다.</td>\n",
    "</tr>\n",
    "<tr>\n",
    "<td><code>{숫자}</code></td>\n",
    "<td>숫자만큼 반복합니다.</td>\n",
    "</tr>\n",
    "<tr>\n",
    "<td><code>{숫자1, 숫자2}</code></td>\n",
    "<td>숫자1 이상 숫자2 이하만큼 반복합니다. <code>?</code>, <code>*</code>, <code>+</code>를 이것으로 대체할 수 있습니다.</td>\n",
    "</tr>\n",
    "<tr>\n",
    "<td><code>{숫자,}</code></td>\n",
    "<td>숫자 이상만큼 반복합니다.</td>\n",
    "</tr>\n",
    "<tr>\n",
    "<td><code>[ ]</code></td>\n",
    "<td>대괄호 안의 문자들 중 한 개의 문자와 매치합니다. [amk]라고 한다면 a 또는 m 또는 k 중 하나라도 존재하면 매치를 의미합니다.  <code>[a-z]</code>와 같이 범위를 지정할 수도 있습니다. <code>[a-zA-Z]</code>는 알파벳 전체를 의미하는 범위이며, 문자열에 알파벳이 존재하면 매치를 의미합니다.</td>\n",
    "</tr>\n",
    "<tr>\n",
    "<td><code>[^문자]</code></td>\n",
    "<td>해당 문자를 제외한 문자를 매치합니다.</td>\n",
    "</tr>\n",
    "<tr>\n",
    "<td><code>|</code></td>\n",
    "<td><code>A|B</code>와 같이 쓰이며 A 또는 B의 의미를 가집니다.</td>\n",
    "</tr>\n",
    "</tbody>\n",
    "</table>\n",
    "\n",
    "https://wikidocs.net/21703"
   ]
  },
  {
   "cell_type": "code",
   "execution_count": 31,
   "metadata": {},
   "outputs": [
    {
     "name": "stdout",
     "output_type": "stream",
     "text": [
      "<re.Match object; span=(0, 10), match='2000-07-22'>\n"
     ]
    }
   ],
   "source": [
    "text = (\"2000-07-22\")\n",
    "m = re.search('[0-9]+-[0-9]+-[0-9]+', text)\n",
    "print(m)"
   ]
  },
  {
   "cell_type": "code",
   "execution_count": 33,
   "metadata": {},
   "outputs": [
    {
     "name": "stdout",
     "output_type": "stream",
     "text": [
      "['2000', '07', '22']\n",
      "['2000', '07', '22']\n"
     ]
    }
   ],
   "source": [
    "# 숫자만: [0-9]\n",
    "m = re.findall('[0-9]+', text)\n",
    "print(m)\n",
    "\n",
    "m = re.findall('\\d+', text)\n",
    "print(m)"
   ]
  },
  {
   "cell_type": "code",
   "execution_count": 34,
   "metadata": {},
   "outputs": [
    {
     "name": "stdout",
     "output_type": "stream",
     "text": [
      "<re.Match object; span=(22, 30), match='tomorrow'>\n"
     ]
    }
   ],
   "source": [
    "# 영어만: [a-z], [A-Za-z]\n",
    "text = \"포기하지 마, 알잖아 너무 멀어지진 마 tomorrow\"\n",
    "m = re.search('[a-z]+', text)\n",
    "print(m)"
   ]
  },
  {
   "cell_type": "code",
   "execution_count": 41,
   "metadata": {},
   "outputs": [
    {
     "name": "stdout",
     "output_type": "stream",
     "text": [
      "['포기']\n",
      "['포기']\n"
     ]
    }
   ],
   "source": [
    "# 특정 문자열: ()를 사용해보자\n",
    "text = \"포기포기하지 마, 알잖아 너무 멀어지진 마 tomorrow\"\n",
    "m = re.findall('(포기)+', text)\n",
    "print(m)\n",
    "\n",
    "text = \"기기포포기포포\"\n",
    "m = re.findall('(포기)+', text)\n",
    "print(m)"
   ]
  },
  {
   "cell_type": "markdown",
   "metadata": {},
   "source": [
    "## input, map"
   ]
  },
  {
   "cell_type": "code",
   "execution_count": 45,
   "metadata": {},
   "outputs": [
    {
     "name": "stdout",
     "output_type": "stream",
     "text": [
      "1 2 3\n"
     ]
    }
   ],
   "source": [
    "# input이 구분자를 두고 여러 개 들어오는데, 다 숫자로 바꾸고 싶을 때\n",
    "\n",
    "# input: 1 2 3\n",
    "a, b, c = map(int, input().split())\n",
    "print(a, b, c)"
   ]
  },
  {
   "cell_type": "code",
   "execution_count": 47,
   "metadata": {},
   "outputs": [
    {
     "data": {
      "text/plain": [
       "['ABC', 'DEF']"
      ]
     },
     "execution_count": 47,
     "metadata": {},
     "output_type": "execute_result"
    }
   ],
   "source": [
    "# 결과는 map 객체, list나 tuple로 바꿔주어야 함\n",
    "list(map(str.upper, [\"abc\", \"def\"]))"
   ]
  },
  {
   "cell_type": "markdown",
   "metadata": {},
   "source": [
    "## 2장 연습문제"
   ]
  },
  {
   "cell_type": "code",
   "execution_count": 4,
   "metadata": {},
   "outputs": [
    {
     "name": "stdout",
     "output_type": "stream",
     "text": [
      "       4\n",
      "x     16\n",
      "--------\n",
      "      64\n"
     ]
    }
   ],
   "source": [
    "# 같이해보기 3\n",
    "x = 4\n",
    "y = 16\n",
    "result = x * y\n",
    "print(f\"{x:>8}\")\n",
    "print(f\"x{y:>7}\")\n",
    "print('-'*8)\n",
    "print(f\"{result:>8}\")"
   ]
  },
  {
   "cell_type": "code",
   "execution_count": 13,
   "metadata": {},
   "outputs": [
    {
     "name": "stdout",
     "output_type": "stream",
     "text": [
      "['example@gmail.com', 'work.example@mywork.com']\n"
     ]
    }
   ],
   "source": [
    "# 같이해보기 4\n",
    "# cf. [] 안의 .은 escape해줄 필요가 없음.\n",
    "import re\n",
    "text = \"안녕하세요. 저의 이메일 주소는 example@gmail.com 입니다. 또한, 다른 이메일로 work.example@mywork.com도 사용합니다.\"\n",
    "print(re.findall(r\"[a-z.]+@[a-z]+[.]com\", text))"
   ]
  },
  {
   "cell_type": "code",
   "execution_count": 21,
   "metadata": {},
   "outputs": [
    {
     "data": {
      "text/plain": [
       "'b*n*n* *nd *r*nge'"
      ]
     },
     "execution_count": 21,
     "metadata": {},
     "output_type": "execute_result"
    }
   ],
   "source": [
    "# 같이해보기 7\n",
    "text = \"banana and orange\"\n",
    "re.sub(r\"[ao]\", \"*\", text) # 정규표현식, 바꾼 후 문자, 바꿀 문자 "
   ]
  },
  {
   "cell_type": "code",
   "execution_count": null,
   "metadata": {},
   "outputs": [],
   "source": [
    "# 주차과제 1\n",
    "products = [\"Apple\", \"Banana\", \"Cherry\"]\n",
    "prices = [1.20, 0.50, 2.00]\n",
    "\n",
    "print(f\"{'Product':<20}Price\")\n",
    "print(\"-\" * 25)\n",
    "\n",
    "for idx in range(len(products)):\n",
    "    print(f\"{products[idx]:<20}${prices[idx]:.2f}\")"
   ]
  },
  {
   "cell_type": "markdown",
   "metadata": {},
   "source": [
    "# 3강 container type"
   ]
  },
  {
   "cell_type": "code",
   "execution_count": 35,
   "metadata": {},
   "outputs": [
    {
     "name": "stdout",
     "output_type": "stream",
     "text": [
      "[0, 3, 1, 2, 3]\n",
      "[0, 3, 1, 2, 5, 3]\n"
     ]
    }
   ],
   "source": [
    "# list.insert(index, value)\n",
    "list_test = [0, 1, 2, 3]\n",
    "list_test.insert(1, 3)\n",
    "print(list_test)\n",
    "list_test.insert(-1, 5) # 원래 -1 자리에 있던 3을 밀어내는 것.\n",
    "print(list_test)"
   ]
  },
  {
   "cell_type": "code",
   "execution_count": 36,
   "metadata": {},
   "outputs": [
    {
     "ename": "TypeError",
     "evalue": "unhashable type: 'list'",
     "output_type": "error",
     "traceback": [
      "\u001b[1;31m---------------------------------------------------------------------------\u001b[0m",
      "\u001b[1;31mTypeError\u001b[0m                                 Traceback (most recent call last)",
      "\u001b[1;32m~\\AppData\\Local\\Temp\\ipykernel_19132\\1099344450.py\u001b[0m in \u001b[0;36m<module>\u001b[1;34m\u001b[0m\n\u001b[0;32m      1\u001b[0m \u001b[1;31m# 리스트 안의 리스트는 set으로 변환할 수 없음\u001b[0m\u001b[1;33m\u001b[0m\u001b[1;33m\u001b[0m\u001b[0m\n\u001b[1;32m----> 2\u001b[1;33m \u001b[0mset_ex\u001b[0m \u001b[1;33m=\u001b[0m \u001b[0mset\u001b[0m\u001b[1;33m(\u001b[0m\u001b[1;33m[\u001b[0m\u001b[1;36m1\u001b[0m\u001b[1;33m,\u001b[0m \u001b[1;36m2\u001b[0m\u001b[1;33m,\u001b[0m \u001b[1;36m3\u001b[0m\u001b[1;33m,\u001b[0m \u001b[1;34m'q'\u001b[0m\u001b[1;33m,\u001b[0m \u001b[1;34m'h'\u001b[0m\u001b[1;33m,\u001b[0m \u001b[1;34m'12_mix'\u001b[0m\u001b[1;33m,\u001b[0m \u001b[1;33m[\u001b[0m\u001b[1;36m1\u001b[0m\u001b[1;33m,\u001b[0m \u001b[1;36m2\u001b[0m\u001b[1;33m,\u001b[0m \u001b[1;36m3\u001b[0m\u001b[1;33m]\u001b[0m\u001b[1;33m]\u001b[0m\u001b[1;33m)\u001b[0m\u001b[1;33m\u001b[0m\u001b[1;33m\u001b[0m\u001b[0m\n\u001b[0m\u001b[0;32m      3\u001b[0m \u001b[0mset_ex\u001b[0m\u001b[1;33m\u001b[0m\u001b[1;33m\u001b[0m\u001b[0m\n",
      "\u001b[1;31mTypeError\u001b[0m: unhashable type: 'list'"
     ]
    }
   ],
   "source": [
    "# 리스트 안의 리스트는 set으로 변환할 수 없음\n",
    "set_ex = set([1, 2, 3, 'q', 'h', '12_mix', [1, 2, 3]])\n",
    "set_ex"
   ]
  },
  {
   "cell_type": "code",
   "execution_count": 42,
   "metadata": {},
   "outputs": [
    {
     "name": "stdout",
     "output_type": "stream",
     "text": [
      "{3}\n",
      "{3}\n",
      "{1, 2, 3, 4, 5}\n",
      "{1, 2, 3, 4, 5}\n",
      "{1, 2}\n",
      "{1, 2}\n",
      "{1, 2, 4, 5}\n",
      "{1, 2, 4, 5}\n",
      "True\n",
      "False\n",
      "True\n",
      "True\n"
     ]
    }
   ],
   "source": [
    "# 집합 연산\n",
    "set_0 = {1, 2}\n",
    "set_1 = {1, 2, 3}\n",
    "set_2 = {3, 4, 5}\n",
    "print(set_1 & set_2) # 교집합\n",
    "print(set_1.intersection(set_2))\n",
    "print(set_1 | set_2) # 합집합\n",
    "print(set_1.union(set_2))\n",
    "print(set_1 - set_2) # 차집합\n",
    "print(set_1.difference(set_2))\n",
    "print(set_1 ^ set_2) # 대칭차집합\n",
    "print(set_1.symmetric_difference(set_2))\n",
    "print(set_0 < set_1) # 진부분집합\n",
    "print(set_1 < set_1)\n",
    "print(set_0 <= set_1) # 부분집합\n",
    "print(set_1 <= set_1)"
   ]
  },
  {
   "cell_type": "code",
   "execution_count": 41,
   "metadata": {},
   "outputs": [
    {
     "name": "stdout",
     "output_type": "stream",
     "text": [
      "{1, 2, 3, 4}\n",
      "{1, 2, 3, 4, 9, 10, 11}\n",
      "{1, 2, 3, 4, 9, 11}\n"
     ]
    }
   ],
   "source": [
    "# 집합 메서드\n",
    "set_1 = {1, 2, 3}\n",
    "set_1.add(4)\n",
    "print(set_1)\n",
    "set_1.update([9, 10, 11]) # 개별 값으로\n",
    "print(set_1)\n",
    "set_1.remove(10)\n",
    "print(set_1)"
   ]
  },
  {
   "cell_type": "code",
   "execution_count": 46,
   "metadata": {},
   "outputs": [
    {
     "name": "stdout",
     "output_type": "stream",
     "text": [
      "None\n",
      "없어요\n"
     ]
    }
   ],
   "source": [
    "# 딕셔너리 get: 없으면 None return\n",
    "# 기존 indexing으론 error\n",
    "ex_dict = {\"상록\": 300, \"민서\": 50, \"석진\": 180}\n",
    "print(ex_dict.get(\"두한\"))\n",
    "print(ex_dict.get(\"두한\", \"없어요\")) # default 값을 return하게끔 할 수 있음"
   ]
  },
  {
   "cell_type": "code",
   "execution_count": 49,
   "metadata": {},
   "outputs": [
    {
     "name": "stdout",
     "output_type": "stream",
     "text": [
      "{'상록': 132, '민서': 50, '석진': 180}\n"
     ]
    }
   ],
   "source": [
    "# dict.update()\n",
    "ex_dict.update(상록 = 132)\n",
    "print(ex_dict)"
   ]
  },
  {
   "cell_type": "code",
   "execution_count": 50,
   "metadata": {},
   "outputs": [
    {
     "name": "stdout",
     "output_type": "stream",
     "text": [
      "{'상록': 132, '민서': 50, '석진': 180, '선호': 48934, '선후': 4190904, '정현': 4934}\n"
     ]
    }
   ],
   "source": [
    "# 딕셔너리 병합\n",
    "ex_dict2 = {\"선호\": 48934, \"선후\": 4190904, \"정현\": 4934}\n",
    "print(ex_dict | ex_dict2)"
   ]
  },
  {
   "cell_type": "code",
   "execution_count": 51,
   "metadata": {},
   "outputs": [
    {
     "name": "stdout",
     "output_type": "stream",
     "text": [
      "{'상록': 132, '민서': 50, '석진': 180, '선호': 48934, '선후': 4190904, '정현': 4934}\n"
     ]
    }
   ],
   "source": [
    "# 병합 후 기존변수명에 저장\n",
    "ex_dict |= ex_dict2\n",
    "print(ex_dict)"
   ]
  },
  {
   "cell_type": "markdown",
   "metadata": {},
   "source": [
    "## 가변, 불변 자료형\n",
    "가변 (mutable): list, dict, set\n",
    "* 내부 값이 바뀌어도, 같은 메모리 주소에 위치함\n",
    "\n",
    "불변 (immutable): tuple, str\n",
    "* 내부 값이 바뀌지 않음. 연산으로 인해 값이 바뀌는 경우, 새로운 메모리 주소에 새로 생성됨."
   ]
  },
  {
   "cell_type": "code",
   "execution_count": 52,
   "metadata": {},
   "outputs": [
    {
     "ename": "TypeError",
     "evalue": "'str' object does not support item assignment",
     "output_type": "error",
     "traceback": [
      "\u001b[1;31m---------------------------------------------------------------------------\u001b[0m",
      "\u001b[1;31mTypeError\u001b[0m                                 Traceback (most recent call last)",
      "\u001b[1;32m~\\AppData\\Local\\Temp\\ipykernel_19132\\290058812.py\u001b[0m in \u001b[0;36m<module>\u001b[1;34m\u001b[0m\n\u001b[0;32m      1\u001b[0m \u001b[0mstr_1\u001b[0m \u001b[1;33m=\u001b[0m \u001b[1;34m\"test\"\u001b[0m\u001b[1;33m\u001b[0m\u001b[1;33m\u001b[0m\u001b[0m\n\u001b[1;32m----> 2\u001b[1;33m \u001b[0mstr_1\u001b[0m\u001b[1;33m[\u001b[0m\u001b[1;36m0\u001b[0m\u001b[1;33m]\u001b[0m \u001b[1;33m=\u001b[0m \u001b[1;34m'a'\u001b[0m\u001b[1;33m\u001b[0m\u001b[1;33m\u001b[0m\u001b[0m\n\u001b[0m",
      "\u001b[1;31mTypeError\u001b[0m: 'str' object does not support item assignment"
     ]
    }
   ],
   "source": [
    "str_1 = \"test\"\n",
    "str_1[0] = 'a'"
   ]
  },
  {
   "cell_type": "code",
   "execution_count": 53,
   "metadata": {},
   "outputs": [
    {
     "name": "stdout",
     "output_type": "stream",
     "text": [
      "2412522372208\n",
      "2412490346288\n"
     ]
    }
   ],
   "source": [
    "# immutable: 메모리 주소가 달라짐에 유의\n",
    "str_2 = \"kimchi\"\n",
    "print(id(str_2))\n",
    "str_2 += \" jjige\"\n",
    "print(id(str_2))"
   ]
  },
  {
   "cell_type": "code",
   "execution_count": 57,
   "metadata": {},
   "outputs": [
    {
     "name": "stdout",
     "output_type": "stream",
     "text": [
      "2412489355456\n",
      "2412484910720\n"
     ]
    }
   ],
   "source": [
    "tuple_1 = ('a', 'b', 'c')\n",
    "print(id(tuple_1))\n",
    "\n",
    "tuple_1 += ('d', 'e', 'f') # tuple도 합연산이 됨. 물론 새로운 객체가 형성됨.\n",
    "print(id(tuple_1))"
   ]
  },
  {
   "cell_type": "code",
   "execution_count": 56,
   "metadata": {},
   "outputs": [
    {
     "name": "stdout",
     "output_type": "stream",
     "text": [
      "2412522377792\n",
      "2412522377792\n"
     ]
    }
   ],
   "source": [
    "# mutable: 그대로 \n",
    "list_1 = ['a', 'b', 'c']\n",
    "print(id(list_1))\n",
    "list_1 += ['d', 'e', 'f']\n",
    "print(id(list_1))"
   ]
  },
  {
   "cell_type": "code",
   "execution_count": 58,
   "metadata": {},
   "outputs": [
    {
     "name": "stdout",
     "output_type": "stream",
     "text": [
      "2412523210544\n",
      "2412523209584\n",
      "2412523210544\n"
     ]
    }
   ],
   "source": [
    "# mutable / immutable 여부에 따라 copy 사용 방식이 달라짐\n",
    "\n",
    "# immutable의 경우\n",
    "str_1 = 'abcde'\n",
    "print(id(str_1))\n",
    "str_2 = str_1\n",
    "str_1 += ' fghij'\n",
    "print(id(str_1)) # 내용이 바뀐 변수의 id는 바뀜. 다른 객체\n",
    "print(id(str_2)) # 복사된 변수의 id는 그대로. 같은 객체"
   ]
  },
  {
   "cell_type": "code",
   "execution_count": 59,
   "metadata": {},
   "outputs": [
    {
     "name": "stdout",
     "output_type": "stream",
     "text": [
      "list_1 id: 2412523084480\n",
      "list_1: ['a', 'b', 'c', 'd', 'e', 'f'], id: 2412523084480\n",
      "list_2: ['a', 'b', 'c', 'd', 'e', 'f'], id: 2412523084480\n"
     ]
    }
   ],
   "source": [
    "# mutable의 경우\n",
    "list_1 = ['a', 'b', 'c']\n",
    "print(f\"list_1 id: {id(list_1)}\")\n",
    "list_2 = list_1\n",
    "list_1 += ['d', 'e', 'f']\n",
    "print(f\"list_1: {list_1}, id: {id(list_1)}\")\n",
    "print(f\"list_2: {list_2}, id: {id(list_2)}\") # 너도 바뀜.\n",
    "# id는 그대로!"
   ]
  },
  {
   "cell_type": "code",
   "execution_count": 60,
   "metadata": {},
   "outputs": [
    {
     "name": "stdout",
     "output_type": "stream",
     "text": [
      "2412412321968\n",
      "2412523084480\n",
      "2412410978672\n"
     ]
    }
   ],
   "source": [
    "# 내부 값을 바꾼 경우\n",
    "print(id(list_1[0]))\n",
    "list_1[0] = 'd'\n",
    "print(id(list_1)) # 변수의 id는 그대로\n",
    "print(id(list_1[0])) # 변수 내부 요소 id는 변함"
   ]
  },
  {
   "cell_type": "code",
   "execution_count": 61,
   "metadata": {},
   "outputs": [
    {
     "name": "stdout",
     "output_type": "stream",
     "text": [
      "['d', 'b', 'c', 'd', 'e', 'f']\n",
      "['d', 'b', 'c', 'd', 'e', 'f']\n"
     ]
    }
   ],
   "source": [
    "# 아무튼 내부 값을 바꿔도, 양쪽 값이 모두 바뀌는 건 여전\n",
    "print(list_1)\n",
    "print(list_2)"
   ]
  },
  {
   "cell_type": "markdown",
   "metadata": {},
   "source": [
    "변수를 copy 하고 나서 원본의 값을 변경했을 때, ***가변 객체는 복사한 객체도 값이 함께 변한다.** 불변 객체는 변화하지 않는다. 가변 객체는 같은 주소를 참조하고 있어 근원이 동일하고, 불변 객체는 주소가 분리되어 이미 다른 존재가 되었기 때문.\n",
    "\n",
    "따라서 변수를 다룰 때 가변 객체인가 불변 객체인가를 알아야 변수를 copy 해도 되는가 아닌가를 알 수 있음\n",
    "\n",
    "**대충 2차원 이상 list일 땐 deepcopy 사용해야함**"
   ]
  },
  {
   "cell_type": "code",
   "execution_count": 62,
   "metadata": {},
   "outputs": [
    {
     "name": "stdout",
     "output_type": "stream",
     "text": [
      "[1, 2, [3, 4]]\n",
      "[0, 2, [3, 4]]\n",
      "[1, 2, [5, 4]]\n",
      "[0, 2, [5, 4]]\n"
     ]
    }
   ],
   "source": [
    "from copy import copy\n",
    "\n",
    "list1 = [1, 2, [3, 4]]\n",
    "list2 = copy(list1)\n",
    "\n",
    "list2[0] = 0\n",
    "print(list1) # 넌 이제 안 바뀜.\n",
    "print(list2)\n",
    "\n",
    "list2[2][0] = 5\n",
    "print(list1) # 넌 아직 바뀜.\n",
    "print(list2)"
   ]
  },
  {
   "cell_type": "code",
   "execution_count": 63,
   "metadata": {},
   "outputs": [
    {
     "name": "stdout",
     "output_type": "stream",
     "text": [
      "[1, 2, [3, 4]]\n",
      "[0, 2, [3, 4]]\n",
      "[1, 2, [3, 4]]\n",
      "[0, 2, [5, 4]]\n"
     ]
    }
   ],
   "source": [
    "from copy import deepcopy # 2차원 이상일 땐 널 써 줘야 해요\n",
    "\n",
    "list1 = [1, 2, [3, 4]]\n",
    "list2 = deepcopy(list1)\n",
    "\n",
    "list2[0] = 0\n",
    "print(list1)\n",
    "print(list2)\n",
    "\n",
    "list2[2][0] = 5\n",
    "print(list1)\n",
    "print(list2)"
   ]
  },
  {
   "cell_type": "markdown",
   "metadata": {},
   "source": [
    "## 3장 연습문제"
   ]
  },
  {
   "cell_type": "code",
   "execution_count": null,
   "metadata": {},
   "outputs": [],
   "source": [
    "# 주차과제 1\n",
    "sample = [98,\"&\", 32, \"33\", \">>\", \"22*\", 0, 8, \"NULL\", 19, \"\\\\\"]\n",
    "result = [s for s in sample if isinstance(s, int)]\n",
    "result.sort()\n",
    "print(result)"
   ]
  },
  {
   "cell_type": "markdown",
   "metadata": {},
   "source": [
    "나중에 생기면 추가"
   ]
  },
  {
   "cell_type": "markdown",
   "metadata": {},
   "source": [
    "# 4장 반복문, 조건문"
   ]
  },
  {
   "cell_type": "code",
   "execution_count": 84,
   "metadata": {},
   "outputs": [
    {
     "name": "stdout",
     "output_type": "stream",
     "text": [
      "True\n",
      "False\n",
      "True\n",
      "False\n"
     ]
    }
   ],
   "source": [
    "# 문자열 startswith, endswith\n",
    "print('kimchi'.startswith('kim'))\n",
    "print('kimchi'.startswith('him'))\n",
    "print('cheese'.endswith('ese'))\n",
    "print('cheese'.endswith('oso'))"
   ]
  },
  {
   "cell_type": "code",
   "execution_count": 85,
   "metadata": {},
   "outputs": [
    {
     "name": "stdout",
     "output_type": "stream",
     "text": [
      "이게 출력되면 안 됨. 0이 아닌 숫자는 True\n"
     ]
    }
   ],
   "source": [
    "# 설령 이런 실수를 하시진 않을 거라 믿음.\n",
    "x = 5\n",
    "if x == 1 or 3 or 6 or 9:\n",
    "    print(\"이게 출력되면 안 됨. 0이 아닌 숫자는 True\")\n",
    "    \n",
    "if x == 1 or x == 3 or x == 6 or x == 9:\n",
    "    print(\"이게 맞지\")"
   ]
  },
  {
   "cell_type": "code",
   "execution_count": 86,
   "metadata": {},
   "outputs": [
    {
     "name": "stdout",
     "output_type": "stream",
     "text": [
      "[6, 12]\n"
     ]
    }
   ],
   "source": [
    "# list comprehension: 반복문이 조건문보다 먼저 와야 합니다\n",
    "result = [num *3 for num in [1, 2, 3, 4] if num % 2 == 0]\n",
    "print(result)"
   ]
  },
  {
   "cell_type": "code",
   "execution_count": 87,
   "metadata": {},
   "outputs": [
    {
     "name": "stdout",
     "output_type": "stream",
     "text": [
      "[1, 2, 2, 4, 3, 6, 4, 8]\n"
     ]
    }
   ],
   "source": [
    "# list comprehension 중첩: 바깥쪽 반복문이 앞에 와야 합니다.\n",
    "result = [num * num2 for num in range(1, 5) for num2 in range(1, 3)]\n",
    "print(result)"
   ]
  },
  {
   "cell_type": "code",
   "execution_count": 114,
   "metadata": {},
   "outputs": [
    {
     "name": "stdout",
     "output_type": "stream",
     "text": [
      "ffffff\n"
     ]
    }
   ],
   "source": [
    "# 반복문과 else: 정상 종료 시에만 실행\n",
    "my_word = input(\"my word: \")\n",
    "for w in 'abcde':\n",
    "    if w in my_word:\n",
    "        print(w)\n",
    "        break\n",
    "else: # a, b, c, d, e가 모두 없어야 실행됨\n",
    "    print(my_word)"
   ]
  },
  {
   "cell_type": "code",
   "execution_count": 116,
   "metadata": {},
   "outputs": [
    {
     "name": "stdout",
     "output_type": "stream",
     "text": [
      "bbbb\n"
     ]
    }
   ],
   "source": [
    "my_word = 'k'\n",
    "while 'k' in my_word: # a는 없지만 k가 있을 때\n",
    "    my_word = input('my word: ')\n",
    "    if 'a' in my_word: # a가 있을 때\n",
    "        break\n",
    "else:\n",
    "    print(my_word) # k도 없고 a도 없을 때"
   ]
  },
  {
   "cell_type": "code",
   "execution_count": 118,
   "metadata": {},
   "outputs": [
    {
     "name": "stdout",
     "output_type": "stream",
     "text": [
      "Good\n"
     ]
    }
   ],
   "source": [
    "# short-circuit evaluation\n",
    "a, b = input().split()\n",
    "\n",
    "if a > b or b % 2 == 0:\n",
    "    print('Good')\n",
    "else:\n",
    "    print('Bad')"
   ]
  },
  {
   "cell_type": "markdown",
   "metadata": {},
   "source": [
    "3 1은 되고 1 3은 안 되는 이유?\n",
    "* a > b가 충족되면 b % 2 ==0 를 보지 않고 연산이 끝나버림.\n",
    "* 이 때 a > b는 id 값으로 비교."
   ]
  },
  {
   "cell_type": "markdown",
   "metadata": {},
   "source": [
    "`a > b`와 `b % 2` 중 앞에 있는 조건문부터 먼저 처리.\n",
    "\n",
    "`or` 같은 경우, `a > b`가 `True`이면 뒤 조건문은 확인하지 않음. 바로 `True`.\n",
    "\n",
    "마찬가지로 `and`는 앞 값이 `False`이면 뒤 조건문은 확인하지 않음. 바로 `False`."
   ]
  },
  {
   "cell_type": "markdown",
   "metadata": {},
   "source": [
    "## 4장 연습문제"
   ]
  },
  {
   "cell_type": "code",
   "execution_count": 99,
   "metadata": {},
   "outputs": [
    {
     "name": "stdout",
     "output_type": "stream",
     "text": [
      "최대공약수: 12\n"
     ]
    }
   ],
   "source": [
    "# 같이해보기 1-3\n",
    "a, b = map(int, input(\"두 수를 입력하세요. \").split())\n",
    "a_list = []\n",
    "\n",
    "for n1 in range(1, a + 1):\n",
    "    if a % n1 == 0:\n",
    "        a_list.append(n1)\n",
    "        \n",
    "b_list = []\n",
    "        \n",
    "for n2 in a_list:\n",
    "    if b % n2 == 0:\n",
    "        b_list.append(n2)\n",
    "        \n",
    "print(f\"최대공약수: {max(b_list)}\")"
   ]
  },
  {
   "cell_type": "code",
   "execution_count": 101,
   "metadata": {},
   "outputs": [
    {
     "name": "stdout",
     "output_type": "stream",
     "text": [
      "최대공약수: 12\n"
     ]
    }
   ],
   "source": [
    "a, b = map(int, input(\"두 수를 입력하세요. \").split())\n",
    "result = 1\n",
    "\n",
    "for n in range(1, a + 1):\n",
    "    if a % n == 0 and b % n == 0 and n > result:\n",
    "        result = n\n",
    "        \n",
    "print(f\"최대공약수: {n}\")"
   ]
  },
  {
   "cell_type": "code",
   "execution_count": 127,
   "metadata": {},
   "outputs": [
    {
     "name": "stdout",
     "output_type": "stream",
     "text": [
      "c\n",
      "5\n"
     ]
    }
   ],
   "source": [
    "# 같이 해보기 1-4\n",
    "str_input = input()\n",
    "count = 1\n",
    "max_count = 1\n",
    "result = str_input[0]\n",
    "\n",
    "for idx in range(1, len(str_input)):\n",
    "    if str_input[idx] == str_input[idx - 1]:\n",
    "        count += 1\n",
    "        if count > max_count:\n",
    "            max_count = count\n",
    "            result = str_input[idx]\n",
    "    else:\n",
    "        count = 1\n",
    "            \n",
    "print(result)\n",
    "print(max_count)"
   ]
  },
  {
   "cell_type": "code",
   "execution_count": 126,
   "metadata": {},
   "outputs": [
    {
     "name": "stdout",
     "output_type": "stream",
     "text": [
      "c\n",
      "5\n"
     ]
    }
   ],
   "source": [
    "str_input = input()\n",
    "count = 1\n",
    "max_count = 1\n",
    "result = str_input[0]\n",
    "\n",
    "for idx in range(1, len(str_input)):\n",
    "    if str_input[idx] == str_input[idx - 1]:\n",
    "        count += 1\n",
    "    else:\n",
    "        if count > max_count:\n",
    "            max_count = count\n",
    "            result = str_input[idx - 1]\n",
    "        count = 1\n",
    "    if idx == len(str_input) - 1 and count > max_count:\n",
    "        max_count = count\n",
    "        result = str_input[idx]\n",
    "            \n",
    "print(result)\n",
    "print(max_count)"
   ]
  },
  {
   "cell_type": "code",
   "execution_count": 132,
   "metadata": {},
   "outputs": [
    {
     "name": "stdout",
     "output_type": "stream",
     "text": [
      "e\n",
      "4\n"
     ]
    }
   ],
   "source": [
    "str_input = input()\n",
    "count = 0\n",
    "max_count = 0\n",
    "result = \"\"\n",
    "\n",
    "for idx in range(0, len(str_input)):\n",
    "    count += 1\n",
    "    if idx == len(str_input) - 1:\n",
    "        if count > max_count:\n",
    "            max_count = count\n",
    "            result = str_input[idx]\n",
    "    else:\n",
    "        if str_input[idx] == str_input[idx + 1]:\n",
    "            pass\n",
    "        else:\n",
    "            if count > max_count:\n",
    "                max_count = count\n",
    "                result = str_input[idx]\n",
    "            count = 0\n",
    "            \n",
    "if len(str_input) == 1:\n",
    "    max_count = 1\n",
    "    result = str_input[0]\n",
    "    \n",
    "            \n",
    "print(result)\n",
    "print(max_count)"
   ]
  },
  {
   "cell_type": "code",
   "execution_count": null,
   "metadata": {},
   "outputs": [],
   "source": [
    "# 주차과제 1(1)\n",
    "text = \"Shoes on, get up in the morn\\' Cup of milk, let\\'s rock and roll King Kong, kick the drum, rolling on like a Rolling Stone Sing song when I'm walking home Jump up to the top, LeBron Ding dong, call me on my phone Ice tea and a game of ping pong, huh\"\n",
    "\n",
    "max_len = 0\n",
    "text_list = text.split()\n",
    "result = []\n",
    "\n",
    "for t in text_list:\n",
    "    if len(t) > max_len:\n",
    "        max_len = len(t)\n",
    "        result = [t]\n",
    "    elif len(t) == max_len:\n",
    "        result.append(t)\n",
    "\n",
    "for r in result:\n",
    "    print(r)"
   ]
  },
  {
   "cell_type": "code",
   "execution_count": null,
   "metadata": {},
   "outputs": [],
   "source": [
    "# 주차과제 1(2)\n",
    "text = \"Shoes on, get up in the morn\\' Cup of milk, let\\'s rock and roll King Kong, kick the drum, rolling on like a Rolling Stone Sing song when I'm walking home Jump up to the top, LeBron Ding dong, call me on my phone Ice tea and a game of ping pong, huh\"\n",
    "\n",
    "text_list = text.split()\n",
    "length_count = dict()\n",
    "\n",
    "for word in text_list:\n",
    "    if len(word) not in length_count:\n",
    "        length_count[len(word)] = [word]\n",
    "    else:\n",
    "        length_count[len(word)].append(word)\n",
    "\n",
    "max_length = max(length_count)\n",
    "for i in length_count[max_length]:\n",
    "    print(i)"
   ]
  },
  {
   "cell_type": "code",
   "execution_count": null,
   "metadata": {},
   "outputs": [],
   "source": [
    "# 주차과제 2\n",
    "input_num = int(input())\n",
    "result = \"\"\n",
    "\n",
    "while input_num:\n",
    "    input_num, digit = divmod(input_num, 2)\n",
    "    result = str(digit) + result\n",
    "\n",
    "print(result)"
   ]
  }
 ],
 "metadata": {
  "kernelspec": {
   "display_name": "base",
   "language": "python",
   "name": "python3"
  },
  "language_info": {
   "codemirror_mode": {
    "name": "ipython",
    "version": 3
   },
   "file_extension": ".py",
   "mimetype": "text/x-python",
   "name": "python",
   "nbconvert_exporter": "python",
   "pygments_lexer": "ipython3",
   "version": "3.9.13"
  }
 },
 "nbformat": 4,
 "nbformat_minor": 2
}
