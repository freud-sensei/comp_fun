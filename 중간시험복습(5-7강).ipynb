{
 "cells": [
  {
   "cell_type": "markdown",
   "metadata": {},
   "source": [
    "# 5강 함수"
   ]
  },
  {
   "cell_type": "code",
   "execution_count": 1,
   "metadata": {},
   "outputs": [
    {
     "name": "stdout",
     "output_type": "stream",
     "text": [
      "(1, 2, 3, 4, 5)\n",
      "5\n"
     ]
    }
   ],
   "source": [
    "# 여러 매개변수 입력하기: 입력된 인자는 튜플취급\n",
    "def myMax(*data):\n",
    "    result = 0\n",
    "    print(data)\n",
    "    \n",
    "    for i in data:\n",
    "        if i > result:\n",
    "            result = i\n",
    "            \n",
    "    return i\n",
    "\n",
    "print(myMax(1, 2, 3, 4, 5))\n",
    "    "
   ]
  },
  {
   "cell_type": "code",
   "execution_count": 2,
   "metadata": {},
   "outputs": [
    {
     "name": "stdout",
     "output_type": "stream",
     "text": [
      "{'name': '상록', 'math': 30, 'english': 45, 'korean': 12}\n"
     ]
    }
   ],
   "source": [
    "# 이와 같은 경우 dictionary로 취급\n",
    "def kw_func(**kwargs):\n",
    "    return kwargs\n",
    "\n",
    "print(kw_func(name=\"상록\", math=30, english=45, korean=12))"
   ]
  },
  {
   "cell_type": "code",
   "execution_count": 3,
   "metadata": {},
   "outputs": [
    {
     "name": "stdout",
     "output_type": "stream",
     "text": [
      "recur_test: 0\n",
      "recur_test: 1\n",
      "recur_test: 2\n",
      "recur_test: 3\n",
      "recur_test: 4\n",
      "count: 5\n"
     ]
    }
   ],
   "source": [
    "# 전역변수: 함수 내에 선언한 변수를 외부에서도 사용 가능하게 함\n",
    "\n",
    "def recur_test(n):\n",
    "    global count\n",
    "    count += 1\n",
    "    return n\n",
    "\n",
    "count = 0\n",
    "for i in range(5):\n",
    "    print(f\"recur_test: {recur_test(i)}\")\n",
    "print(f\"count: {count}\")"
   ]
  },
  {
   "cell_type": "code",
   "execution_count": 4,
   "metadata": {},
   "outputs": [
    {
     "data": {
      "text/plain": [
       "(3, 1)"
      ]
     },
     "execution_count": 4,
     "metadata": {},
     "output_type": "execute_result"
    }
   ],
   "source": [
    "# divmod: 몫과 나머지\n",
    "divmod(13, 4)"
   ]
  },
  {
   "cell_type": "code",
   "execution_count": 5,
   "metadata": {},
   "outputs": [
    {
     "data": {
      "text/plain": [
       "[(3, 'apple'), (4, 'banana'), (5, 'cherry')]"
      ]
     },
     "execution_count": 5,
     "metadata": {},
     "output_type": "execute_result"
    }
   ],
   "source": [
    "# enumerate: 인덱스 시작값 변경 가능\n",
    "list(enumerate(['apple', 'banana', 'cherry'], start=3))"
   ]
  },
  {
   "cell_type": "code",
   "execution_count": 2,
   "metadata": {},
   "outputs": [
    {
     "name": "stdout",
     "output_type": "stream",
     "text": [
      "<re.Match object; span=(0, 4), match='13-5'>\n"
     ]
    }
   ],
   "source": [
    "import re\n",
    "print(re.search(r\"([0-9]+)(.{1})([0-9]+)\", \"13-5\"))"
   ]
  },
  {
   "cell_type": "code",
   "execution_count": 38,
   "metadata": {},
   "outputs": [
    {
     "name": "stdout",
     "output_type": "stream",
     "text": [
      "625\n"
     ]
    }
   ],
   "source": [
    "# lambda function\n",
    "lam_sq = lambda x: x**2\n",
    "print(lam_sq(25))"
   ]
  },
  {
   "cell_type": "code",
   "execution_count": 39,
   "metadata": {},
   "outputs": [
    {
     "name": "stdout",
     "output_type": "stream",
     "text": [
      "33\n"
     ]
    }
   ],
   "source": [
    "lam_calc = lambda num1, num2 : num1 + num2\n",
    "print(lam_calc(13, 20))"
   ]
  },
  {
   "cell_type": "markdown",
   "metadata": {},
   "source": [
    "**할당에 의한 호출**\n",
    "* immutable: int, float, str 등\n",
    "* 함수에 인자를 전달할 때, **인자의 값**이 복사됨\n",
    "* 함수 내부에서 인자 값을 변경해도, **원래 변수 값엔 영향 없음**\n",
    "\n",
    "**참조에 의한 호출**\n",
    "* mutable: list, set, dictionary 등\n",
    "* 함수에 인자를 전달할 때, **메모리 주소**가 복사됨\n",
    "* 함수 내에서 인자 값을 변경하면, **원래 변수의 값도 변경**"
   ]
  },
  {
   "cell_type": "markdown",
   "metadata": {},
   "source": [
    "## 5강 연습문제\n"
   ]
  },
  {
   "cell_type": "code",
   "execution_count": 40,
   "metadata": {},
   "outputs": [
    {
     "data": {
      "text/plain": [
       "'13-7는(은) 6입니다.'"
      ]
     },
     "execution_count": 40,
     "metadata": {},
     "output_type": "execute_result"
    }
   ],
   "source": [
    "# 같이 해보기 1번\n",
    "\n",
    "# ord\n",
    "\n",
    "import re\n",
    "\n",
    "command = input(\"연산을 입력하세요: \")\n",
    "\n",
    "def parse_command(_command):\n",
    "    for idx, lttr in enumerate(_command):\n",
    "        if lttr in [\"+\", \"-\", \"*\", \"/\"]:\n",
    "            operator = lttr\n",
    "            num1 = int(_command[:idx])\n",
    "            num2 = int(_command[idx+1:])\n",
    "    return calculator(num1, num2, operator)\n",
    "    \n",
    "\n",
    "def calculator(_num1, _num2, _operator):\n",
    "    if _operator == \"/\":\n",
    "        if _num2 == 0:\n",
    "            return \"0으로는 나눌 수 없습니다.\"\n",
    "        else:\n",
    "            result = _num1 / _num2\n",
    "    elif _operator == \"+\":\n",
    "        result = _num1 + _num2\n",
    "    elif _operator == \"-\":\n",
    "        result = _num1 - _num2\n",
    "    elif _operator == \"*\":\n",
    "        result = _num1 * _num2\n",
    "    return f\"{_num1}{_operator}{_num2}는(은) {result}입니다.\"\n",
    "\n",
    "parse_command(command)"
   ]
  },
  {
   "cell_type": "code",
   "execution_count": 44,
   "metadata": {},
   "outputs": [
    {
     "data": {
      "text/plain": [
       "'12-9는(은) 3입니다.'"
      ]
     },
     "execution_count": 44,
     "metadata": {},
     "output_type": "execute_result"
    }
   ],
   "source": [
    "# 정규표현식\n",
    "import re\n",
    "def parse_command(_command):\n",
    "    patterns = re.search(r'([0-9]+)([\\+\\-\\*\\/])([0-9]+)', _command)\n",
    "    num1 = int(patterns.group(1)) # 0은 전체. 1부터 세부 그룹임에 유의\n",
    "    operator = patterns.group(2)\n",
    "    num2 = int(patterns.group(3))\n",
    "    return calculator(num1, num2, operator)\n",
    "parse_command(\"12-9\")"
   ]
  },
  {
   "cell_type": "code",
   "execution_count": 43,
   "metadata": {},
   "outputs": [],
   "source": [
    "# lambda function\n",
    "def calculator(_num1, _num2, _operator):\n",
    "    oper_dict = {\"+\": lambda x, y: x + y,\n",
    "                 \"-\": lambda x, y: x - y,\n",
    "                 \"*\": lambda x, y: x * y,\n",
    "                 \"/\": lambda x, y: x / y}\n",
    "    if _operator == \"/\" and _num2 == 0:\n",
    "        return \"계산할 수 없습니다.\"\n",
    "    else:\n",
    "        result = oper_dict[_operator](_num1, _num2)\n",
    "        return f\"{_num1}{_operator}{_num2}는(은) {result}입니다.\""
   ]
  },
  {
   "cell_type": "code",
   "execution_count": 47,
   "metadata": {},
   "outputs": [
    {
     "name": "stdout",
     "output_type": "stream",
     "text": [
      "10 3\n",
      "3 10\n"
     ]
    }
   ],
   "source": [
    "# 같이 해보기 3\n",
    "\n",
    "x = 10\n",
    "y = 3\n",
    "\n",
    "def swap():\n",
    "    global x, y\n",
    "    x, y = y, x\n",
    "\n",
    "print(x, y)\n",
    "swap()\n",
    "print(x, y)"
   ]
  },
  {
   "cell_type": "code",
   "execution_count": 49,
   "metadata": {},
   "outputs": [
    {
     "name": "stdout",
     "output_type": "stream",
     "text": [
      "[10, 3]\n",
      "[3, 10]\n"
     ]
    }
   ],
   "source": [
    "# 참조에 의한 호출을 이용한 방법\n",
    "def swap(_nums):\n",
    "    _nums[0], _nums[1] = _nums[1], _nums[0]\n",
    "\n",
    "nums = [10, 3]\n",
    "print(nums)\n",
    "swap(nums)\n",
    "print(nums)"
   ]
  },
  {
   "cell_type": "code",
   "execution_count": 51,
   "metadata": {},
   "outputs": [
    {
     "name": "stdout",
     "output_type": "stream",
     "text": [
      "10 5\n"
     ]
    }
   ],
   "source": [
    "# 현실적으로는..\n",
    "def swap(_x, _y):\n",
    "    _x, _y = _y, _x\n",
    "    return _x, _y\n",
    "\n",
    "x = 5\n",
    "y = 10\n",
    "x, y = swap(5, 10)\n",
    "print(x, y)"
   ]
  },
  {
   "cell_type": "markdown",
   "metadata": {},
   "source": [
    "# 6-7강 클래스"
   ]
  },
  {
   "cell_type": "code",
   "execution_count": null,
   "metadata": {},
   "outputs": [],
   "source": [
    "class Character:\n",
    "    def __init__(self, _name): # 생성자 (클래스 객체 생성 시 자동을 가동)\n",
    "        self.life = 100 # 속성\n",
    "        self.name = _name\n",
    "    \n",
    "    def attacked(self): # 메서드\n",
    "        self.life -= 10\n",
    "        \n",
    "    def attack(self, target): # 메서드의 매개변수는 self 다음에 지정\n",
    "        target.attacked()\n",
    "        \n",
    "    def __del__(self): # 소멸자 (클래스 객체 삭제 시 자동으로 가동)\n",
    "        print(f\"{self.name} is deleted\")\n",
    "        \n",
    "    def remove(self): # 소멸자보단 이런 방법을 추천\n",
    "        print(f\"{self.name} is deleted\")\n",
    "        del self\n",
    "\n",
    "# 소멸자는 python 특성상 정상적으로 기능하지 않을 때가 많음\n",
    "# 지워지는 시점은 garbage collector가 결정하기 때문에, 어떨 땐 바로 지워지고, 어떨 땐 기다려야...\n",
    "        "
   ]
  },
  {
   "cell_type": "code",
   "execution_count": null,
   "metadata": {},
   "outputs": [],
   "source": [
    "# 상속\n",
    "class LowLifeChar(Character):\n",
    "    def __init__(self, _name): # 상속받을 class에 있는 매개변수는 그대로 있어야 함\n",
    "        super().__init__(_name) # 그야 여기에 입력해야 하니까\n",
    "        self.life = 50\n",
    "        self.job = 'low_life_character'\n",
    "        \n",
    "    def attacked(self): # 메서드 override\n",
    "        self.life -= 20"
   ]
  },
  {
   "cell_type": "code",
   "execution_count": null,
   "metadata": {},
   "outputs": [],
   "source": [
    "# 변수\n",
    "SPEED_LIMIT = 0 # class 밖 전역변수\n",
    "\n",
    "class Car:\n",
    "    def __init__(self, brand):\n",
    "        self.brand = brand # class 내부 인스턴스변수\n",
    "        self.speed = 0\n",
    "        self.stop_ment = \"정지\"\n",
    "    def accelerate(self):\n",
    "        print(\"가속!\")\n",
    "        acc = 100 # 함수 내부 지역변수\n",
    "        self.speed += acc\n",
    "    def brake(self):\n",
    "        if self.speed - 10 < SPEED_LIMIT: # 전역변수 호출\n",
    "            print(self.stop_ment) # 다른 method의 인스턴스 변수 호출\n",
    "            self.speed = SPEED_LIMIT # 전역변수 호출\n",
    "        else:\n",
    "            self.speed -= 10"
   ]
  },
  {
   "cell_type": "markdown",
   "metadata": {},
   "source": [
    "- 함수\n",
    "    1. 함수 외부의 **전역 변수**\n",
    "    2. 함수 내부의 **지역 변수**\n",
    "    - 함수 내부에서 전역 변수의 참조는 가능, 수정은 경우에 따라 가능(global 또는 list 등)\n",
    "    - 함수 외부에서 지역 변수에 대한 접근은 불가\n",
    "- 클래스\n",
    "    1. 클래스 외부의 **전역 변수**\n",
    "    2. 클래스 내부의 **인스턴스 변수**\n",
    "    3. method 내부의 **지역 변수**\n",
    "    - 클래스(method) 내부에서 전역 변수의 참조는 가능, 수정은 경우에 따라 가능(global 또는 list 등, *함수와 동일*)\n",
    "    - **method 내부에서 다른 method의** ***인스턴스 변수는 참조 가능, 지역 변수는 참조 불가***\n",
    "    - 클래스 외부에서 ***클래스 내부의 인스턴스 변수를 참조 및 수정 가능***"
   ]
  },
  {
   "cell_type": "code",
   "execution_count": null,
   "metadata": {},
   "outputs": [],
   "source": [
    "# 직접해보기 1\n",
    "def prime_check(n):\n",
    "    results = []\n",
    "    for x in range(2, n+1):\n",
    "        for y in range(2, x):\n",
    "            if x % y == 0:\n",
    "                break\n",
    "        else:\n",
    "            results.append(x)\n",
    "    print(*results)\n",
    "\n",
    "prime_check(int(input()))"
   ]
  },
  {
   "cell_type": "code",
   "execution_count": null,
   "metadata": {},
   "outputs": [],
   "source": [
    "# 주차과제 1\n",
    "winning_num = [3, 45, 23, 8, 11, 14, 38]\n",
    "trial = list(map(int, input().split(\", \")))\n",
    "\n",
    "def check_nums(_trial):\n",
    "    match_num = set(winning_num[:-1]) & set(_trial)\n",
    "    match_many = len(match_num)\n",
    "    bonus_num = winning_num[-1]\n",
    "\n",
    "    if match_many == 6:\n",
    "        result = 1\n",
    "    elif match_many == 5:\n",
    "        bonus_trial = set(_trial) - match_num\n",
    "        if bonus_num in _trial:\n",
    "            result = 2\n",
    "        else:\n",
    "            result = 3\n",
    "    elif match_many == 4:\n",
    "        result = 4\n",
    "    elif match_many == 3:\n",
    "        result = 5\n",
    "    else:\n",
    "        result = 6\n",
    "\n",
    "    return f\"당첨 결과 {result}등 입니다.\"\n",
    "\n",
    "print(check_nums(trial))"
   ]
  },
  {
   "cell_type": "markdown",
   "metadata": {},
   "source": [
    "## 6강 연습문제"
   ]
  },
  {
   "cell_type": "code",
   "execution_count": 53,
   "metadata": {},
   "outputs": [],
   "source": [
    "class Character:\n",
    "\n",
    "  def __init__(self, name): # 객체 생성 시 이름과 직업을 함께 입력받아 속성 정보에 입력\n",
    "    self.life = 100\n",
    "    self.name = name # 매개변수에서 입력받은 인자를 속성 값으로 추가\n",
    "\n",
    "  def attacked(self):\n",
    "    self.life -= 10\n",
    "\n",
    "  def attack(self, target):\n",
    "    target.attacked()"
   ]
  },
  {
   "cell_type": "code",
   "execution_count": 54,
   "metadata": {},
   "outputs": [],
   "source": [
    "class Hero:\n",
    "    def __init__(self, _name, _power):\n",
    "        self.name = _name\n",
    "        self.power = _power\n",
    "    def introduce(self):\n",
    "        print(f\"나는 {self.name}이며, 내 힘은 {self.power}입니다!\")\n",
    "\n",
    "class Enemy:\n",
    "    def __init__(self, _name, _hp):\n",
    "        self.name = _name\n",
    "        self.hp = _hp\n",
    "    def attacked_by(self, _hero):\n",
    "        if _hero.power > self.hp:\n",
    "            print(\"적을 무찔렀습니다!\")\n",
    "        else:\n",
    "            print(\"적에게 패배했습니다.\")"
   ]
  },
  {
   "cell_type": "code",
   "execution_count": 55,
   "metadata": {},
   "outputs": [
    {
     "name": "stdout",
     "output_type": "stream",
     "text": [
      "영웅\n",
      "100\n",
      "나는 영웅이며, 내 힘은 100입니다!\n"
     ]
    }
   ],
   "source": [
    "h1 = Hero('영웅', 100)\n",
    "print(h1.name)\n",
    "print(h1.power)\n",
    "h1.introduce()"
   ]
  },
  {
   "cell_type": "code",
   "execution_count": 56,
   "metadata": {},
   "outputs": [
    {
     "name": "stdout",
     "output_type": "stream",
     "text": [
      "적을 무찔렀습니다!\n"
     ]
    }
   ],
   "source": [
    "h1 = Hero('영웅', 100)\n",
    "e1 = Enemy('적', 90)\n",
    "\n",
    "e1.attacked_by(h1)"
   ]
  },
  {
   "cell_type": "code",
   "execution_count": null,
   "metadata": {},
   "outputs": [],
   "source": []
  }
 ],
 "metadata": {
  "kernelspec": {
   "display_name": "base",
   "language": "python",
   "name": "python3"
  },
  "language_info": {
   "codemirror_mode": {
    "name": "ipython",
    "version": 3
   },
   "file_extension": ".py",
   "mimetype": "text/x-python",
   "name": "python",
   "nbconvert_exporter": "python",
   "pygments_lexer": "ipython3",
   "version": "3.9.13"
  }
 },
 "nbformat": 4,
 "nbformat_minor": 2
}
