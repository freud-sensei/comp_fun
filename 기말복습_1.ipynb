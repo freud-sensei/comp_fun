{
  "nbformat": 4,
  "nbformat_minor": 0,
  "metadata": {
    "colab": {
      "provenance": []
    },
    "kernelspec": {
      "name": "python3",
      "display_name": "Python 3"
    },
    "language_info": {
      "name": "python"
    }
  },
  "cells": [
    {
      "cell_type": "markdown",
      "source": [
        "# 중간고사범위"
      ],
      "metadata": {
        "id": "_bHTqU5p-aMJ"
      }
    },
    {
      "cell_type": "code",
      "source": [
        "# 숫자 야구 게임\n",
        "def compare_numbers(secret_number, guess):\n",
        "  strikes, balls = 0, 0\n",
        "\n",
        "  for idx in range(3):\n",
        "    if secret_number[idx] == guess[idx]:\n",
        "      strikes += 1\n",
        "    elif guess[idx] in secret_number:\n",
        "      balls += 1\n",
        "  return f\"{strikes}S {balls}B\"\n",
        "\n",
        "secret_number = 869\n",
        "for attempts in range(1, 11):\n",
        "  while True:\n",
        "    guess = input()\n",
        "    if len(guess) == 3 and guess.isdigit():\n",
        "      break\n",
        "  result = compare_numbers(str(secret_number), guess)\n",
        "  if result == \"3S 0B\":\n",
        "    print(f\"축하합니다! {attempts}번 시도로 정답을 맞췄습니다. 정답: {secret_number}\")\n",
        "    break\n",
        "  elif result == \"0S 0B\":\n",
        "    print(\"아웃!\")\n",
        "  else:\n",
        "    print(result)\n",
        "else:\n",
        "  print(f\"최대 시도 횟수를 모두 사용하였습니다. 정답: {secret_number}\")\n"
      ],
      "metadata": {
        "colab": {
          "base_uri": "https://localhost:8080/"
        },
        "id": "pURjtuqI-ckk",
        "outputId": "af0f384e-c2cd-4ede-c734-8f93d08e04e6"
      },
      "execution_count": null,
      "outputs": [
        {
          "output_type": "stream",
          "name": "stdout",
          "text": [
            "123\n",
            "아웃!\n",
            "456\n",
            "0S 1B\n",
            "789\n",
            "1S 1B\n",
            "265\n",
            "1S 0B\n",
            "312\n",
            "아웃!\n",
            "798\n",
            "0S 2B\n",
            "565\n",
            "1S 0B\n",
            "243\n",
            "아웃!\n",
            "958\n",
            "0S 2B\n",
            "493\n",
            "0S 1B\n",
            "최대 시도 횟수를 모두 사용하였습니다. 정답: 869\n"
          ]
        }
      ]
    },
    {
      "cell_type": "code",
      "source": [
        "# 포켓몬 게임\n",
        "class PoKeMon():\n",
        "  def __init__(self, name, hp, atk):\n",
        "    self.name = name\n",
        "    self.hp = hp\n",
        "    self.atk = atk\n",
        "    self.max_hp = hp\n",
        "\n",
        "  def attack(self, rival):\n",
        "    rival.hp = max(0, rival.hp - self.atk)\n",
        "    print(f\"{self.name}의 공격! {rival.name}의 체력이 감소하였다({rival.hp}/{rival.max_hp})\")\n",
        "\n",
        "  def attacked(self, rival):\n",
        "    self.hp = max(0, self.hp - rival.atk)\n",
        "    print(f\"{rival.name}의 공격! {self.name}의 체력이 감소하였다({self.hp}/{self.max_hp})\")\n",
        "\n",
        "  def battle(self, rival):\n",
        "    while self.hp > 0 and rival.hp > 0:\n",
        "      self.attack(rival)\n",
        "      self.attacked(rival)\n",
        "      print()\n",
        "    if self.hp > rival.hp:\n",
        "      print(f\"{self.name}의 승리! 경험치를 얻었다.\")\n",
        "    elif self.hp == rival.hp:\n",
        "      print(f\"{self.name}와/과 {rival.name}이/가 동시에 쓰러졌다...\")\n",
        "    else:\n",
        "      print(f\"{rival.name}의 승리! 눈앞이 흐려진다...\")\n",
        "\n",
        "class PoKeMon_V2(PoKeMon):\n",
        "  def __init__(self, name, hp, atk, pok_type):\n",
        "    super().__init__(name, hp, atk)\n",
        "    self.pok_type = pok_type\n",
        "\n",
        "  def type_check(self, rival):\n",
        "    type_adv = {\"물\": \"불\", \"불\": \"풀\", \"풀\": \"물\"}\n",
        "    if self.pok_type in type_adv:\n",
        "      if type_adv[self.pok_type] == rival.pok_type:\n",
        "        self.atk = int(1.5 * self.atk)\n",
        "    if rival.pok_type in type_adv:\n",
        "      if type_adv[rival.pok_type] == self.pok_type:\n",
        "        rival.atk = int(1.5 * rival.atk)"
      ],
      "metadata": {
        "id": "r1jdt259IHMq"
      },
      "execution_count": null,
      "outputs": []
    },
    {
      "cell_type": "markdown",
      "source": [
        "# 9장 재귀함수"
      ],
      "metadata": {
        "id": "OMCiNlGgeE-K"
      }
    },
    {
      "cell_type": "code",
      "execution_count": null,
      "metadata": {
        "colab": {
          "base_uri": "https://localhost:8080/"
        },
        "id": "UcRiRNKwZ8ub",
        "outputId": "5340b2aa-564f-497f-fa30-3bf0e0c66306"
      },
      "outputs": [
        {
          "output_type": "stream",
          "name": "stdout",
          "text": [
            "5 1\n",
            "4 2\n",
            "3 3\n",
            "2 4\n",
            "1 5\n"
          ]
        },
        {
          "output_type": "execute_result",
          "data": {
            "text/plain": [
              "120"
            ]
          },
          "metadata": {},
          "execution_count": 1
        }
      ],
      "source": [
        "# 1부터 n까지의 곱 표출\n",
        "def factorial(n, depth):\n",
        "  print(n, depth)\n",
        "  if n == 1:\n",
        "    return n\n",
        "  else:\n",
        "    return n * factorial(n-1, depth + 1)\n",
        "\n",
        "factorial(5, 1)"
      ]
    },
    {
      "cell_type": "markdown",
      "source": [
        "# 10장 재귀함수와 알고리즘"
      ],
      "metadata": {
        "id": "xYgYsajNeMu4"
      }
    },
    {
      "cell_type": "markdown",
      "source": [
        "**시간복잡도 표기법**\n",
        "\n",
        "- 오메가 표기법(Big-Ω Notation): 해당 알고리즘이 가장 최상의 경우 얼마의 시간 복잡도를 가지는가\n",
        "- 세타 표기법(Big-θ Notation): 해당 알고리즘이 (대략적) 평균적으로 얼마의 시간 복잡도를 가지는가\n",
        "- **빅오 표기법(Big-O Notation)**: 해당 알고리즘이 가장 최악의 경우 얼마의 시간 복잡도를 가지는가\n",
        "- '오세오'로 외웁시다!\n",
        "- $O(1) < O(\\log n) < O(n) < O(n \\log n) < O(n^2) < O(2^n)$\n",
        "\n",
        "* 예: 피보나치수열은 재귀로는 $O(2^n)$, 반복문으로는 $O(n)$ (총 n단계 반복)"
      ],
      "metadata": {
        "id": "lgQU5hKnfAwp"
      }
    },
    {
      "cell_type": "code",
      "source": [
        "# 피보나치 수열 + 메모이제이션\n",
        "memo = {0: 0, 1: 1}\n",
        "\n",
        "def fibonacci(n, depth):\n",
        "  print(n, depth)\n",
        "  if n not in memo:\n",
        "    memo[n] = fibonacci(n-1, depth+1) + fibonacci(n-2, depth+1)\n",
        "  return memo[n]\n",
        "\n",
        "fibonacci(4, 1)"
      ],
      "metadata": {
        "colab": {
          "base_uri": "https://localhost:8080/"
        },
        "id": "o3nqBEBMffwC",
        "outputId": "a5c40643-23d3-4b6c-f13b-5f0bffcc59cc"
      },
      "execution_count": null,
      "outputs": [
        {
          "output_type": "stream",
          "name": "stdout",
          "text": [
            "4 1\n",
            "3 2\n",
            "2 3\n",
            "1 4\n",
            "0 4\n",
            "1 3\n",
            "2 2\n"
          ]
        },
        {
          "output_type": "execute_result",
          "data": {
            "text/plain": [
              "3"
            ]
          },
          "metadata": {},
          "execution_count": 4
        }
      ]
    },
    {
      "cell_type": "code",
      "source": [
        "# 순열 - 계단 오르기\n",
        "# 1번에 1개, 2개, 3개의 계단을 오를 수 있다. n개의 계단을 오를 때 모든 순서쌍의 수는?\n",
        "# 예: 1개 -> (1), 2개 -> (1, 1) or (2), 3개 -> (1, 1, 1), (1, 2), (2, 1) or (3)\n",
        "\n",
        "memo = {1: 1, 2: 2, 3: 4}\n",
        "def stair_perms(n):\n",
        "  if n not in memo:\n",
        "    memo[n] = stair_perms(n-3) + stair_perms(n-2) + stair_perms(n-1)\n",
        "    # 맨 뒤에 각각 (3), (2), (1)을 추가하면 되니 이런 식이 도출됨\n",
        "  return memo[n]\n",
        "\n",
        "n = int(input(\"총 계단의 수를 입력하세요. \"))\n",
        "print(stair_perms(n))"
      ],
      "metadata": {
        "colab": {
          "base_uri": "https://localhost:8080/"
        },
        "id": "a_6xS0c9fqYW",
        "outputId": "39721ceb-7b04-4851-8a5d-e0a877cde0b3"
      },
      "execution_count": null,
      "outputs": [
        {
          "output_type": "stream",
          "name": "stdout",
          "text": [
            "총 계단의 수를 입력하세요. 5\n",
            "13\n"
          ]
        }
      ]
    },
    {
      "cell_type": "code",
      "source": [
        "# 조합 - 계단 오르기(alt)\n",
        "# 1번에 1개, 2개, 3개, ....k개의 계단을 오를 수 있다. n개의 계단을 오를 때 조합의 수는?\n",
        "# 예: n=5, k=3 -> (3, 2), (3, 1, 1), (2, 2, 1), (2, 1, 1, 1), (1, 1, 1, 1, 1)\n",
        "\n",
        "def stair_comb(n, k):\n",
        "  if k == 1 or n == 0:\n",
        "    return 1 # (1, 1, 1, 1, 1) 외 가능성 없음.\n",
        "  else:\n",
        "    # stair_comb(5, 3) = stair_comb(2, 2)[3 1번 오름] + stair_comb(5, 2)[3 오르지 않음] = 5\n",
        "    # stair_comb(2, 2) = stair_comb(0, 1)[2 1번 오름] + stair_comb(2, 1)[2 오르지 않음] = 1 + 1 = 2\n",
        "    # stair_comb(5, 2) = stair_comb(1, 1)[2 2번 오름] + stair_comb(3, 1)[2 1번 오름] + stair_comb(5, 1)[2 오르지 않음] = 1 + 1 + 1 = 3\n",
        "    result = 0\n",
        "    while n >= 0:\n",
        "      result += stair_comb(n, k - 1)\n",
        "      result -= k"
      ],
      "metadata": {
        "id": "grPBrCMC-TS3"
      },
      "execution_count": null,
      "outputs": []
    },
    {
      "cell_type": "code",
      "source": [
        "# 조합 - 동전 고르기\n",
        "# 10원, 50원, 100원, 500원 짜리 동전이 각각 1개씩 총 4개의 동전이 주어져 있다.\n",
        "# 이 때 동전 3개를 뽑아서 만들 수 있는 금액의 수를 구하는 프로그램을 재귀함수를 이용해서 구현해봅시다.\n",
        "# 힌트: (10, 50, 100, 500)에서 3개를 고르는 것은 10을 고르고 (50, 100, 500)에서 2개를 고르는 것 + 50을 고르고 (100, 500)에서 2개를 고르는 것.\n",
        "\n",
        "def coin_combs(coins, n):\n",
        "  if n == 1:\n",
        "    return [[c] for c in coins]\n",
        "\n",
        "  elif len(coins) < n:\n",
        "    return []\n",
        "\n",
        "  else:\n",
        "    result = []\n",
        "    for idx in range(len(coins)):\n",
        "      pick = [coins[idx]]\n",
        "      rest = coins[idx+1:]\n",
        "      for comb in coin_combs(rest, n - 1):\n",
        "        result.append(pick + comb)\n",
        "    return result\n",
        "\n",
        "\n",
        "for i in coin_combs([10, 50, 100, 500], 3):\n",
        "  print(sum(i), end=\" \")"
      ],
      "metadata": {
        "colab": {
          "base_uri": "https://localhost:8080/"
        },
        "id": "HF1SXHTkgzhK",
        "outputId": "51a9004f-e51c-4c72-de64-232797f317b1"
      },
      "execution_count": null,
      "outputs": [
        {
          "output_type": "stream",
          "name": "stdout",
          "text": [
            "160 560 610 650 "
          ]
        }
      ]
    },
    {
      "cell_type": "code",
      "source": [
        "# 중복순열 - 유전정보 (10강 직접3)\n",
        "def dna_func(_base, n):\n",
        "  if n == 1:\n",
        "    return [[b] for b in _base]\n",
        "  else:\n",
        "    result = []\n",
        "    for idx in range(len(_base)):\n",
        "      pick = [_base[idx]]\n",
        "      for perm in dna_func(_base, n-1):\n",
        "        result.append(pick + perm)\n",
        "  return result"
      ],
      "metadata": {
        "id": "hXM7tE_6-RDO"
      },
      "execution_count": null,
      "outputs": []
    },
    {
      "cell_type": "code",
      "source": [
        "# 조합 - 판자 설치하기 (10강 직접2)\n",
        "# 서로 다른 길이의 판자 8개가 주어져 있다. 주어진 판자들을 이어 붙여서 다리를 만든다고 했을 때, 만들어질 수 있는 다리의 경우의 수를 출력하는 프로그램을 재귀함수를 이용해서 구현해봅시다.\n",
        "\n",
        "def comb_func(_base, n):\n",
        "  if len(_base) < n:\n",
        "    return []\n",
        "  elif n == 1:\n",
        "    return [[b] for b in _base]\n",
        "  else:\n",
        "    result = []\n",
        "    for idx in range(len(_base)):\n",
        "      pick = [_base[idx]]\n",
        "      rest = _base[idx + 1:]\n",
        "      for cmb in comb_func(rest, n-1):\n",
        "        result.append(pick + cmb)\n",
        "    return result"
      ],
      "metadata": {
        "id": "eVk9iq_5-I5q"
      },
      "execution_count": null,
      "outputs": []
    },
    {
      "cell_type": "markdown",
      "source": [
        "# 11장 분할정복"
      ],
      "metadata": {
        "id": "HyDAayKSeMGd"
      }
    },
    {
      "cell_type": "code",
      "source": [
        "# 16x16 이미지파일을 8x8로 압축하기\n",
        "compressed = []\n",
        "\n",
        "def compress(arr):\n",
        "  global compressed\n",
        "\n",
        "  if len(arr) == 2:\n",
        "    compressed.append((arr[0][0] + arr[0][1] + arr[1][0] + arr[1][1]) / 4)\n",
        "  else:\n",
        "    mid_idx = len(arr) // 2\n",
        "    compress([subarr[:mid_idx] for subarr in arr[:mid_idx]])\n",
        "    compress([subarr[mid_idx:] for subarr in arr[:mid_idx]])\n",
        "    compress([subarr[:mid_idx] for subarr in arr[mid_idx:]])\n",
        "    compress([subarr[mid_idx:] for subarr in arr[mid_idx:]])\n",
        "\n",
        "def main():\n",
        "    image = [\n",
        "                [9, 9, 13, 0, 5, 1, 11, 5],\n",
        "                [7, 1, 7, 5, 5, 10, 12, 0],\n",
        "                [10, 1, 6, 5, 12, 8, 7, 5],\n",
        "                [0, 7, 5, 6, 7, 15, 9, 11],\n",
        "                [4, 0, 6, 1, 0, 6, 15, 13],\n",
        "                [6, 13, 5, 7, 15, 1, 8, 0],\n",
        "                [4, 0, 4, 4, 5, 0, 10, 9],\n",
        "                [10, 0, 8, 1, 7, 5, 0, 12],\n",
        "            ]\n",
        "    compress(image)\n",
        "    print([compressed[4 * i:4 * i + 4] for i in range(4)])\n",
        "    print(len(compressed))\n",
        "\n",
        "    count = 0\n",
        "    for i in compressed:\n",
        "        if i < 5:\n",
        "            count = count + 1\n",
        "    print(count)\n",
        "\n",
        "main()"
      ],
      "metadata": {
        "colab": {
          "base_uri": "https://localhost:8080/"
        },
        "id": "Wo5gM1LIi2xc",
        "outputId": "8330810f-86db-4a78-a0da-b3897a14a15e"
      },
      "execution_count": null,
      "outputs": [
        {
          "output_type": "stream",
          "name": "stdout",
          "text": [
            "[[6.5, 6.25, 4.5, 5.5], [5.25, 7.0, 10.5, 8.0], [5.75, 4.75, 3.5, 4.25], [5.5, 9.0, 4.25, 7.75]]\n",
            "16\n",
            "5\n"
          ]
        }
      ]
    },
    {
      "cell_type": "code",
      "source": [
        "# 가짜 동전 찾기 (11강 과제3)\n",
        "def find_fake(coins, start=0):\n",
        "  if len(coins) == 1:\n",
        "    if coins[0] == 9:\n",
        "      return start\n",
        "    else:\n",
        "      return 0\n",
        "\n",
        "  mid_idx = len(coins) // 2\n",
        "  return find_fake(coins[:mid_idx], start) + find_fake(coins[mid_idx:], start + mid_idx)"
      ],
      "metadata": {
        "id": "v-dCkokL-Ak5"
      },
      "execution_count": null,
      "outputs": []
    },
    {
      "cell_type": "markdown",
      "source": [
        "# 12장 정렬"
      ],
      "metadata": {
        "id": "aCQMXIP0jo-9"
      }
    },
    {
      "cell_type": "code",
      "source": [
        "import random\n",
        "import time\n",
        "import copy\n",
        "random.seed(12213)\n",
        "sample_orig = random.sample(range(100), 10)"
      ],
      "metadata": {
        "id": "cIewQTfikmMF"
      },
      "execution_count": null,
      "outputs": []
    },
    {
      "cell_type": "markdown",
      "source": [
        "아래 세 방법의 시간 복잡도는 모두 $O(n^2)$"
      ],
      "metadata": {
        "id": "EzEfoKrmmwAU"
      }
    },
    {
      "cell_type": "code",
      "source": [
        "# 선택 정렬: 매번 제일 작은 값을 선택해서 정렬\n",
        "def selection_sort(arr):\n",
        "  for idx in range(len(arr) - 1):\n",
        "    smallest = idx\n",
        "    for jdx in range(idx + 1, len(arr)):\n",
        "      if arr[jdx] < arr[smallest]:\n",
        "        smallest = jdx\n",
        "    arr[idx], arr[smallest] = arr[smallest], arr[idx]"
      ],
      "metadata": {
        "id": "Xl3bAPnWkIAL"
      },
      "execution_count": null,
      "outputs": []
    },
    {
      "cell_type": "code",
      "source": [
        "sample = sample_orig.copy()\n",
        "print(sample)\n",
        "selection_sort(sample)\n",
        "print(sample)"
      ],
      "metadata": {
        "colab": {
          "base_uri": "https://localhost:8080/"
        },
        "id": "EPjTak5NkkW-",
        "outputId": "064e1482-62ad-4880-f255-e5f68db31653"
      },
      "execution_count": null,
      "outputs": [
        {
          "output_type": "stream",
          "name": "stdout",
          "text": [
            "[54, 46, 41, 11, 83, 64, 34, 49, 39, 0]\n",
            "[0, 11, 34, 39, 41, 46, 49, 54, 64, 83]\n"
          ]
        }
      ]
    },
    {
      "cell_type": "code",
      "source": [
        "# 버블 정렬: 옆자리랑 계속 비교해서 값 바꾸기. 매번 제일 우측 값은 제일 큰 값이 됨.\n",
        "def bubble_sort(arr):\n",
        "  for idx in range(len(arr) - 1):\n",
        "    for jdx in range(len(arr) - idx - 1):\n",
        "      if arr[jdx] > arr[jdx + 1]:\n",
        "        arr[jdx], arr[jdx + 1] = arr[jdx + 1], arr[jdx]"
      ],
      "metadata": {
        "id": "wDmOz0nOkx_w"
      },
      "execution_count": null,
      "outputs": []
    },
    {
      "cell_type": "code",
      "source": [
        "sample = sample_orig.copy()\n",
        "print(sample)\n",
        "bubble_sort(sample)\n",
        "print(sample)"
      ],
      "metadata": {
        "colab": {
          "base_uri": "https://localhost:8080/"
        },
        "id": "IS8NzfEXlyQE",
        "outputId": "82af503f-2d38-4c91-8972-b7eb0b766f84"
      },
      "execution_count": null,
      "outputs": [
        {
          "output_type": "stream",
          "name": "stdout",
          "text": [
            "[54, 46, 41, 11, 83, 64, 34, 49, 39, 0]\n",
            "[0, 11, 34, 39, 41, 46, 49, 54, 64, 83]\n"
          ]
        }
      ]
    },
    {
      "cell_type": "code",
      "source": [
        "# 삽입 정렬: 왼쪽은 이미 정렬되었다고 가정하고, 차례로 적당한 위치에 새로운 성분을 삽입.\n",
        "def insertion_sort(arr):\n",
        "  for idx in range(1, len(arr)):\n",
        "    for jdx in range(idx, 0, - 1):\n",
        "      if arr[jdx] < arr[jdx - 1]:\n",
        "        arr[jdx - 1], arr[jdx] = arr[jdx], arr[jdx - 1]"
      ],
      "metadata": {
        "id": "NCjzANmIl-LF"
      },
      "execution_count": null,
      "outputs": []
    },
    {
      "cell_type": "code",
      "source": [
        "sample = sample_orig.copy()\n",
        "print(sample)\n",
        "insertion_sort(sample)\n",
        "print(sample)"
      ],
      "metadata": {
        "colab": {
          "base_uri": "https://localhost:8080/"
        },
        "id": "Zl-5QUuQmqdF",
        "outputId": "e813dc27-097d-4048-bd0c-b4cef33d9900"
      },
      "execution_count": null,
      "outputs": [
        {
          "output_type": "stream",
          "name": "stdout",
          "text": [
            "[54, 46, 41, 11, 83, 64, 34, 49, 39, 0]\n",
            "[0, 11, 34, 39, 41, 46, 49, 54, 64, 83]\n"
          ]
        }
      ]
    },
    {
      "cell_type": "markdown",
      "source": [
        "병합 정렬의 시간 복잡도는 $O(n \\log n)$\n",
        "\n",
        "퀵 정렬의 시간 복잡도는 $O(n^2)$지만, $\\theta$ 성능이 우수해 실무에서 많이 사용됨\n"
      ],
      "metadata": {
        "id": "a1LCtyubneLs"
      }
    },
    {
      "cell_type": "code",
      "source": [
        "# 병합 정렬(A): array를 return하는 방법\n",
        "def merge_sort(arr):\n",
        "  if len(arr) < 2:\n",
        "    return arr\n",
        "\n",
        "  mid_idx = len(arr) // 2\n",
        "  left = merge_sort(arr[:mid_idx])\n",
        "  right = merge_sort(arr[mid_idx:])\n",
        "  l, r = 0, 0\n",
        "  result = []\n",
        "\n",
        "  while l < len(left) and r < len(right):\n",
        "    if left[l] <= right[r]:\n",
        "      result.append(left[l])\n",
        "      l += 1\n",
        "    else:\n",
        "      result.append(right[r])\n",
        "      r += 1\n",
        "\n",
        "  result.extend(left[l:])\n",
        "  result.extend(right[r:])\n",
        "\n",
        "  return result\n"
      ],
      "metadata": {
        "id": "DPVOr9kumzsj"
      },
      "execution_count": null,
      "outputs": []
    },
    {
      "cell_type": "code",
      "source": [
        "sample = sample_orig.copy()\n",
        "print(sample)\n",
        "print(merge_sort(sample))"
      ],
      "metadata": {
        "colab": {
          "base_uri": "https://localhost:8080/"
        },
        "id": "nyKpPyUnn7ep",
        "outputId": "b40dd755-d2ae-4aeb-ffdf-c35aa56608a6"
      },
      "execution_count": null,
      "outputs": [
        {
          "output_type": "stream",
          "name": "stdout",
          "text": [
            "[54, 46, 41, 11, 83, 64, 34, 49, 39, 0]\n",
            "[0, 11, 34, 39, 41, 46, 49, 54, 64, 83]\n"
          ]
        }
      ]
    },
    {
      "cell_type": "code",
      "source": [
        "# 병합 정렬(B): array 내부에서 sort하는 방법\n",
        "def merge_inner(arr):\n",
        "  if len(arr) < 2:\n",
        "    return\n",
        "\n",
        "  mid_idx = len(arr) // 2\n",
        "  left = arr[:mid_idx]\n",
        "  right = arr[mid_idx:]\n",
        "  merge_inner(left)\n",
        "  merge_inner(right)\n",
        "\n",
        "  inner_sort(left, right, arr)\n",
        "\n",
        "def inner_sort(left, right, arr):\n",
        "  l, r, k = 0, 0, 0\n",
        "\n",
        "  while l < len(left) and r < len(right):\n",
        "    if left[l] <= right[r]:\n",
        "      arr[k] = left[l]\n",
        "      l += 1\n",
        "      k += 1\n",
        "    else:\n",
        "      arr[k] = right[r]\n",
        "      r += 1\n",
        "      k += 1\n",
        "\n",
        "  while l < len(left):\n",
        "    arr[k] = left[l]\n",
        "    l += 1\n",
        "    k += 1\n",
        "\n",
        "  while r < len(right):\n",
        "    arr[k] = right[r]\n",
        "    r += 1\n",
        "    k += 1"
      ],
      "metadata": {
        "id": "9PGRrjpMpMSG"
      },
      "execution_count": null,
      "outputs": []
    },
    {
      "cell_type": "code",
      "source": [
        "sample = sample_orig.copy()\n",
        "print(sample)\n",
        "merge_inner(sample)\n",
        "print(sample)"
      ],
      "metadata": {
        "colab": {
          "base_uri": "https://localhost:8080/"
        },
        "id": "xDKfX16prS9r",
        "outputId": "221a4fd0-9e6d-42b6-8549-4a7c6e6f2930"
      },
      "execution_count": null,
      "outputs": [
        {
          "output_type": "stream",
          "name": "stdout",
          "text": [
            "[54, 46, 41, 11, 83, 64, 34, 49, 39, 0]\n",
            "[0, 11, 34, 39, 41, 46, 49, 54, 64, 83]\n"
          ]
        }
      ]
    },
    {
      "cell_type": "code",
      "source": [
        "# 병합 정렬(C): 이런 것도 있다...\n",
        "\n",
        "def real_ms(arr, low, high):\n",
        "  if low < high:\n",
        "    mid = (low + high) // 2\n",
        "    real_ms(arr, low, mid)\n",
        "    real_ms(arr, mid+1, high)\n",
        "\n",
        "    l = 0\n",
        "    r = mid + 1\n",
        "    k = 0\n",
        "\n",
        "    while l <= mid and r <= high:\n",
        "      if arr[l] <= arr[r]:\n",
        "        l += 1\n",
        "      else:\n",
        "        arr[l], arr[r] = arr[r], arr[l]\n",
        "        temp = arr[r]\n",
        "\n",
        "        while r < high and arr[r+1] < temp:\n",
        "          arr[r] = arr[r + 1]\n",
        "          r += 1\n",
        "        arr[r] = temp\n",
        "\n",
        "        l += 1\n",
        "        r = mid + 1"
      ],
      "metadata": {
        "id": "CX4NsEUv88yE"
      },
      "execution_count": null,
      "outputs": []
    },
    {
      "cell_type": "code",
      "source": [
        "sample = sample_orig.copy()\n",
        "print(sample)\n",
        "real_ms(sample, 0, len(sample) - 1)\n",
        "print(sample)"
      ],
      "metadata": {
        "colab": {
          "base_uri": "https://localhost:8080/"
        },
        "id": "dp08pvXN9mWp",
        "outputId": "dcaccd46-a6d1-4171-e0e2-0cb898c644c9"
      },
      "execution_count": null,
      "outputs": [
        {
          "output_type": "stream",
          "name": "stdout",
          "text": [
            "[54, 46, 41, 11, 83, 64, 34, 49, 39, 0]\n",
            "[0, 11, 34, 39, 41, 46, 49, 54, 64, 83]\n"
          ]
        }
      ]
    },
    {
      "cell_type": "markdown",
      "source": [
        "퀵 정렬의 시간복잡도는 $\\theta(n \\log n), O(n^2)$"
      ],
      "metadata": {
        "id": "Ako_0GI3n_rd"
      }
    },
    {
      "cell_type": "code",
      "source": [
        "# 퀵 정렬(A): array를 return하는 방법\n",
        "def quick_sort(arr):\n",
        "  if len(arr) < 2:\n",
        "    return arr\n",
        "\n",
        "  pivot = arr[len(arr) // 2]\n",
        "  left, mid, right = [], [], []\n",
        "\n",
        "  for a in arr:\n",
        "    if a < pivot:\n",
        "      left.append(a)\n",
        "    elif a == pivot:\n",
        "      mid.append(a)\n",
        "    else:\n",
        "      right.append(a)\n",
        "\n",
        "  return quick_sort(left) + mid + quick_sort(right)"
      ],
      "metadata": {
        "id": "6HuDbtW-n-9S"
      },
      "execution_count": null,
      "outputs": []
    },
    {
      "cell_type": "code",
      "source": [
        "sample = sample_orig.copy()\n",
        "print(sample)\n",
        "print(quick_sort(sample))"
      ],
      "metadata": {
        "colab": {
          "base_uri": "https://localhost:8080/"
        },
        "id": "3ydSeSYbpBNV",
        "outputId": "0b20e7cc-dfad-44b6-cfd5-60d888b0f1da"
      },
      "execution_count": null,
      "outputs": [
        {
          "output_type": "stream",
          "name": "stdout",
          "text": [
            "[54, 46, 41, 11, 83, 64, 34, 49, 39, 0]\n",
            "[0, 11, 34, 39, 41, 46, 49, 54, 64, 83]\n"
          ]
        }
      ]
    },
    {
      "cell_type": "code",
      "source": [
        "# 퀵 정렬(B): 실제론 이 방법을 더 사용함\n",
        "def real_quick_sort(arr, head, tail):\n",
        "  if head >= tail:\n",
        "    return\n",
        "\n",
        "  pivot = head\n",
        "  l, r = head + 1, tail\n",
        "  while l <= r:\n",
        "    while l <= tail and arr[l] <= arr[pivot]:\n",
        "      l += 1\n",
        "    while head < r and arr[r] >= arr[pivot]:\n",
        "      r -= 1\n",
        "\n",
        "    if l > r:\n",
        "      arr[pivot], arr[r] = arr[r], arr[pivot]\n",
        "    else:\n",
        "      arr[l], arr[r] = arr[r], arr[l]\n",
        "\n",
        "    print(arr)\n",
        "\n",
        "  real_quick_sort(arr, head, r - 1)\n",
        "  real_quick_sort(arr, r + 1, tail)"
      ],
      "metadata": {
        "id": "pj6kIxiX6WQ6"
      },
      "execution_count": null,
      "outputs": []
    },
    {
      "cell_type": "code",
      "source": [
        "sample = sample_orig.copy()\n",
        "real_quick_sort(sample, 0, len(sample) - 1)\n",
        "print(sample)"
      ],
      "metadata": {
        "colab": {
          "base_uri": "https://localhost:8080/"
        },
        "id": "YDU8988L71--",
        "outputId": "4aae65b0-d11f-46f7-be88-9e4cec7359c8"
      },
      "execution_count": null,
      "outputs": [
        {
          "output_type": "stream",
          "name": "stdout",
          "text": [
            "[54, 46, 41, 11, 0, 64, 34, 49, 39, 83]\n",
            "[54, 46, 41, 11, 0, 39, 34, 49, 64, 83]\n",
            "[49, 46, 41, 11, 0, 39, 34, 54, 64, 83]\n",
            "[34, 46, 41, 11, 0, 39, 49, 54, 64, 83]\n",
            "[34, 0, 41, 11, 46, 39, 49, 54, 64, 83]\n",
            "[34, 0, 11, 41, 46, 39, 49, 54, 64, 83]\n",
            "[11, 0, 34, 41, 46, 39, 49, 54, 64, 83]\n",
            "[0, 11, 34, 41, 46, 39, 49, 54, 64, 83]\n",
            "[0, 11, 34, 41, 39, 46, 49, 54, 64, 83]\n",
            "[0, 11, 34, 39, 41, 46, 49, 54, 64, 83]\n",
            "[0, 11, 34, 39, 41, 46, 49, 54, 64, 83]\n",
            "[0, 11, 34, 39, 41, 46, 49, 54, 64, 83]\n"
          ]
        }
      ]
    },
    {
      "cell_type": "markdown",
      "source": [
        "key를 이용한 python sort"
      ],
      "metadata": {
        "id": "u1Xc9iS8r6wX"
      }
    },
    {
      "cell_type": "code",
      "source": [
        "vowels = ['err', 'aetn', 'u', 'oo', 'iiiii']\n",
        "vowels.sort(key=len)\n",
        "print(vowels)"
      ],
      "metadata": {
        "colab": {
          "base_uri": "https://localhost:8080/"
        },
        "id": "cVdCsEqNr_U0",
        "outputId": "30393c02-4cc2-4133-abef-1a606bb52583"
      },
      "execution_count": null,
      "outputs": [
        {
          "output_type": "stream",
          "name": "stdout",
          "text": [
            "['u', 'oo', 'err', 'aetn', 'iiiii']\n"
          ]
        }
      ]
    },
    {
      "cell_type": "code",
      "source": [
        "random = [(2, 2), (3, 4), (4, 1), (1, 3)]\n",
        "random.sort(key=lambda x: x[1])\n",
        "print(random)"
      ],
      "metadata": {
        "colab": {
          "base_uri": "https://localhost:8080/"
        },
        "id": "mH75PM0XsAh-",
        "outputId": "a0ced4de-7ace-497c-b095-c4be97afec1b"
      },
      "execution_count": null,
      "outputs": [
        {
          "output_type": "stream",
          "name": "stdout",
          "text": [
            "[(4, 1), (2, 2), (1, 3), (3, 4)]\n"
          ]
        }
      ]
    },
    {
      "cell_type": "code",
      "source": [
        "employees = [\n",
        "    {'Name': 'Alan Turing', 'age': 25, 'salary': 10000},\n",
        "    {'Name': 'Sharon Lin', 'age': 30, 'salary': 8000},\n",
        "    {'Name': 'John Hopkins', 'age': 18, 'salary': 1000},\n",
        "    {'Name': 'Mikhail Tal', 'age': 40, 'salary': 15000},\n",
        "]\n",
        "employees.sort(key=lambda x: x.get('Name'))\n",
        "print(employees)"
      ],
      "metadata": {
        "colab": {
          "base_uri": "https://localhost:8080/"
        },
        "id": "Q-6P6ieasCd7",
        "outputId": "534cbd89-872e-4bf6-c25e-04c63b59c68e"
      },
      "execution_count": null,
      "outputs": [
        {
          "output_type": "stream",
          "name": "stdout",
          "text": [
            "[{'Name': 'Alan Turing', 'age': 25, 'salary': 10000}, {'Name': 'John Hopkins', 'age': 18, 'salary': 1000}, {'Name': 'Mikhail Tal', 'age': 40, 'salary': 15000}, {'Name': 'Sharon Lin', 'age': 30, 'salary': 8000}]\n"
          ]
        }
      ]
    },
    {
      "cell_type": "code",
      "source": [
        "# 숫자, 문자형 자료가 혼합된 리스트의 정렬\n",
        "# (1) 키 정보를 오름차순으로 정렬하여 이름 출력\n",
        "unsorted = {\"Kim\": 188, \"Lee\": 168, \"Park\": 159, \"Choi\": 177, \"Jung\": 143, \"Kang\": 169, \"Yoon\": 163, \"Jang\": 169, \"Lim\":171, \"Han\":160}\n",
        "\n",
        "def selection_sort(dct):\n",
        "  names = list(dct.keys())\n",
        "  for idx in range(len(names) - 1):\n",
        "    smallest = idx\n",
        "    for jdx in range(idx + 1, len(names)):\n",
        "      if dct[names[jdx]] < dct[names[smallest]]:\n",
        "        smallest = jdx\n",
        "    names[smallest], names[idx] = names[idx], names[smallest]\n",
        "  return names\n",
        "\n",
        "selection_sort(unsorted)"
      ],
      "metadata": {
        "colab": {
          "base_uri": "https://localhost:8080/"
        },
        "id": "FgSQC4TZsH1D",
        "outputId": "538e510d-094f-46e0-e15e-28cf45e00254"
      },
      "execution_count": null,
      "outputs": [
        {
          "output_type": "execute_result",
          "data": {
            "text/plain": [
              "['Jung', 'Park', 'Han', 'Yoon', 'Lee', 'Kang', 'Jang', 'Lim', 'Choi', 'Kim']"
            ]
          },
          "metadata": {},
          "execution_count": 45
        }
      ]
    },
    {
      "cell_type": "code",
      "source": [
        "# (2) 이름 -> 학번 순으로 오름차순 정렬\n",
        "unlisted = ['2021_John', '2019_John', '2022_Cathy', '2020_Robert', '2021_Lisa', '2022_Mary',\n",
        "            '2023_Xash', '2022_Robert', '2017_Kelly', '2019_Clara', '2021_Dianna'] # (10명)\n",
        "\n",
        "def insertion_sort(arr):\n",
        "  for idx in range(1, len(arr)):\n",
        "    for jdx in range(idx, 0, -1):\n",
        "      left_num, left_name = arr[jdx-1].split('_')\n",
        "      right_num, right_name = arr[jdx].split('_')\n",
        "\n",
        "      if left_name == right_name:\n",
        "        if right_num < left_num:\n",
        "          arr[jdx - 1], arr[jdx] = arr[jdx], arr[jdx - 1]\n",
        "      elif right_name < left_name:\n",
        "        arr[jdx - 1], arr[jdx] = arr[jdx], arr[jdx - 1]\n",
        "  return arr\n",
        "\n",
        "print(insertion_sort(unlisted))"
      ],
      "metadata": {
        "colab": {
          "base_uri": "https://localhost:8080/"
        },
        "id": "QPYQwVtJsyH3",
        "outputId": "335ce4dc-3559-4db1-b9c0-aec4e07d1145"
      },
      "execution_count": null,
      "outputs": [
        {
          "output_type": "stream",
          "name": "stdout",
          "text": [
            "['2022_Cathy', '2019_Clara', '2021_Dianna', '2019_John', '2021_John', '2017_Kelly', '2021_Lisa', '2022_Mary', '2020_Robert', '2022_Robert', '2023_Xash']\n"
          ]
        }
      ]
    },
    {
      "cell_type": "markdown",
      "source": [
        "# 13강 탐색"
      ],
      "metadata": {
        "id": "G_kf7mWKv3XO"
      }
    },
    {
      "cell_type": "markdown",
      "source": [
        "탐색을 $T$번 수행할 때,\n",
        "\n",
        "* 선형 탐색: $O(Tn)$\n",
        "* 정렬 후 탐색알고리즘 사용: 1번에 $O(n\\log n + T\\log n) = O(T\\log n)$"
      ],
      "metadata": {
        "id": "NyknWFGkx1-w"
      }
    },
    {
      "cell_type": "markdown",
      "source": [
        "이하 탐색방법은 모두 정렬된 배열에서만 사용 가능\n",
        "\n",
        "이진탐색의 시간복잡도는 $O(\\log n)$"
      ],
      "metadata": {
        "id": "L3vkDMh1yI2b"
      }
    },
    {
      "cell_type": "code",
      "source": [
        "# 이진 탐색\n",
        "def binary_search(arr, target):\n",
        "  low, high = 0, len(arr) - 1\n",
        "\n",
        "  while low <= high:\n",
        "    mid = (low + high) // 2\n",
        "\n",
        "    if target < arr[mid]:\n",
        "      high = mid - 1\n",
        "    elif target > arr[mid]:\n",
        "      low = mid + 1\n",
        "    else:\n",
        "      return mid\n",
        "  return -1"
      ],
      "metadata": {
        "id": "IOwTu22izCjA"
      },
      "execution_count": null,
      "outputs": []
    },
    {
      "cell_type": "code",
      "source": [
        "import random\n",
        "random.seed(12213)\n",
        "sample = random.sample(range(1000), 10)\n",
        "sample.sort()\n",
        "target = random.choice(sample)\n",
        "print(sample, target)\n",
        "print(binary_search(sample, target))"
      ],
      "metadata": {
        "colab": {
          "base_uri": "https://localhost:8080/"
        },
        "id": "r69VJdJ7zGNQ",
        "outputId": "7f4ee8d4-2ecc-4668-b9f8-536f6731f772"
      },
      "execution_count": null,
      "outputs": [
        {
          "output_type": "stream",
          "name": "stdout",
          "text": [
            "[88, 95, 273, 334, 370, 399, 439, 512, 665, 854] 370\n",
            "4\n"
          ]
        }
      ]
    },
    {
      "cell_type": "code",
      "source": [
        "# 점프 탐색: 배열을 sqrt(len(arr))개로 나누어 구분. 한 블록에 값이 있을 시 선형탐색 실시.\n",
        "import math\n",
        "\n",
        "def jump_search(arr, target):\n",
        "  length = len(arr)\n",
        "  step = int(math.sqrt(len(arr)))\n",
        "  left, right = 0, 0\n",
        "\n",
        "  while left < length and arr[left] <= target:\n",
        "    right = min(left + step, length - 1)\n",
        "    if arr[left] <= target <= arr[right]:\n",
        "      break\n",
        "    left += step\n",
        "  else:\n",
        "    return -1\n",
        "\n",
        "  while left <= right and arr[left] <= target:\n",
        "    if arr[left] == target:\n",
        "      return left\n",
        "    left += 1\n",
        "  else:\n",
        "    return -1"
      ],
      "metadata": {
        "id": "43w_qnumzTvg"
      },
      "execution_count": null,
      "outputs": []
    },
    {
      "cell_type": "code",
      "source": [
        "random.seed(12213)\n",
        "sample = random.sample(range(1000), 10)\n",
        "sample.sort()\n",
        "target = random.choice(sample)\n",
        "print(sample, target)\n",
        "print(jump_search(sample, target))"
      ],
      "metadata": {
        "colab": {
          "base_uri": "https://localhost:8080/"
        },
        "id": "a-sKKnOn1ilN",
        "outputId": "bc38bbe7-5c5a-44a0-8e79-9d889cf10ffc"
      },
      "execution_count": null,
      "outputs": [
        {
          "output_type": "stream",
          "name": "stdout",
          "text": [
            "[88, 95, 273, 334, 370, 399, 439, 512, 665, 854] 370\n",
            "4\n"
          ]
        }
      ]
    },
    {
      "cell_type": "markdown",
      "source": [
        "보간 탐색은 데이터가 선형적일 땐 $\\theta(\\log(\\log n))$, 최악의 경우 $O(n)$. 데이터가 균등하게 분포되어 있을수록 성능이 좋음."
      ],
      "metadata": {
        "id": "E8k2K74O2MyI"
      }
    },
    {
      "cell_type": "code",
      "source": [
        "def interpolation_search(arr, target):\n",
        "  left, right = 0, len(arr) - 1\n",
        "\n",
        "  while left <= right and arr[left] <= target <= arr[right]:\n",
        "    if left == right:\n",
        "      if arr[left] == target:\n",
        "        return left\n",
        "      else:\n",
        "        return -1\n",
        "    mid = int(left + (right - left) * (target - arr[left]) / (arr[right] - arr[left]))\n",
        "\n",
        "    if mid < left or right < mid:\n",
        "      return -1\n",
        "    elif arr[mid] < target:\n",
        "      left = mid + 1\n",
        "    elif arr[mid] == target:\n",
        "      return mid\n",
        "    else:\n",
        "      right = mid - 1\n",
        "  return -1"
      ],
      "metadata": {
        "id": "O3hNQdbN2WXi"
      },
      "execution_count": null,
      "outputs": []
    },
    {
      "cell_type": "code",
      "source": [
        "random.seed(12213)\n",
        "sample = random.sample(range(1000), 10)\n",
        "sample.sort()\n",
        "target = random.choice(sample)\n",
        "print(sample, target)\n",
        "print(jump_search(sample, target))"
      ],
      "metadata": {
        "colab": {
          "base_uri": "https://localhost:8080/"
        },
        "id": "nqgV2RG-3hc8",
        "outputId": "2b2c53ba-e8c7-49d4-e7ca-4ac8c57dd83a"
      },
      "execution_count": null,
      "outputs": [
        {
          "output_type": "stream",
          "name": "stdout",
          "text": [
            "[88, 95, 273, 334, 370, 399, 439, 512, 665, 854] 370\n",
            "4\n"
          ]
        }
      ]
    },
    {
      "cell_type": "code",
      "source": [
        "# 지수 탐색: O(log n), 이진탐색 기반으로 탐색범위 조정\n",
        "\n",
        "def binary_ex_s(arr, left, right, target):\n",
        "  if left <= right:\n",
        "    mid_idx = left + (right - left) // 2\n",
        "\n",
        "    if arr[mid_idx] == target:\n",
        "      return mid_idx\n",
        "    elif arr[mid_idx] < target:\n",
        "      return binary_ex_s(arr, left + 1, right, target)\n",
        "    else:\n",
        "      return binary_ex_s(arr, left, right - 1, target)\n",
        "  return -1\n",
        "\n",
        "def binary_s(arr, target):\n",
        "\n",
        "  if arr[0] == target:\n",
        "    return 0\n",
        "\n",
        "  i = 1\n",
        "\n",
        "  while i < len(arr) and arr[i] <= target:\n",
        "    i *= 2\n",
        "\n",
        "  return binary_ex_s(arr, i // 2, min(i, len(arr) - 1), target)\n"
      ],
      "metadata": {
        "id": "HH09olcRef3O"
      },
      "execution_count": null,
      "outputs": []
    },
    {
      "cell_type": "code",
      "source": [
        "# 역순으로 정렬되어 있을 때는?\n",
        "sorted_list = [19, 18, 17, 16, 15, 14, 13, 12, 11, 10]\n",
        "\n",
        "def reverse_is(arr, target):\n",
        "  left, right = 0, len(arr) - 1\n",
        "\n",
        "  while left <= right and arr[left] >= target >= arr[right]:\n",
        "    if left == right:\n",
        "      if arr[left] == target:\n",
        "        return left\n",
        "      else:\n",
        "        return -1\n",
        "\n",
        "    mid = int(left + (right - left) / (arr[right] - arr[left]) * (target - arr[left]))\n",
        "    if mid < left or right < mid:\n",
        "      return -1\n",
        "    elif arr[mid] == target:\n",
        "      return mid\n",
        "    elif arr[mid] < target:\n",
        "      right = mid - 1\n",
        "    else:\n",
        "      left = mid + 1\n",
        "\n",
        "  return -1\n",
        "\n",
        "reverse_is(sorted_list, 11)"
      ],
      "metadata": {
        "colab": {
          "base_uri": "https://localhost:8080/"
        },
        "id": "qwlhvoKT32UW",
        "outputId": "30b94173-b165-49f1-e7b3-78dc55780418"
      },
      "execution_count": null,
      "outputs": [
        {
          "output_type": "execute_result",
          "data": {
            "text/plain": [
              "8"
            ]
          },
          "metadata": {},
          "execution_count": 63
        }
      ]
    },
    {
      "cell_type": "code",
      "source": [
        "# 동일 숫자가 여러 번 반복될 때, 해당 숫자의 1번째 혹은 마지막 index 찾기\n",
        "\n",
        "def dup_bs(arr, target, find):\n",
        "  left, right = 0, len(arr) - 1\n",
        "  result = -1\n",
        "\n",
        "  while left <= right:\n",
        "    mid = (left + right) // 2\n",
        "\n",
        "    if arr[mid] < target:\n",
        "      left = mid + 1\n",
        "    elif arr[mid] > target:\n",
        "      right = mid - 1\n",
        "    else:\n",
        "      result = mid\n",
        "      if find == \"first\":\n",
        "        right = mid - 1\n",
        "      elif find == \"last\":\n",
        "        left = mid + 1\n",
        "  return result\n",
        "\n",
        "print(dup_bs([1, 2, 4, 4, 4, 5, 6], 4, 'first'))  # Output: 2\n",
        "print(dup_bs([1, 2, 4, 4, 4, 5, 6], 4, 'last'))   # Output: 4"
      ],
      "metadata": {
        "colab": {
          "base_uri": "https://localhost:8080/"
        },
        "id": "MiK8N5HE5Wxd",
        "outputId": "80c056c2-988e-45f4-e5eb-0a1c2a1c02c3"
      },
      "execution_count": null,
      "outputs": [
        {
          "output_type": "stream",
          "name": "stdout",
          "text": [
            "2\n",
            "4\n"
          ]
        }
      ]
    },
    {
      "cell_type": "code",
      "source": [
        "# 이진탐색: 제일 '가까운 index' (13강 과제 1)\n",
        "def closest_bs(arr, target):\n",
        "  left, right = 0, len(arr) - 1\n",
        "\n",
        "  if target <= arr[left]:\n",
        "    return left\n",
        "  elif target >= arr[right]:\n",
        "    return right\n",
        "\n",
        "  while left <= right:\n",
        "    mid = (left + right) // 2\n",
        "    if arr[mid] == target:\n",
        "      return mid\n",
        "    elif arr[mid] < target:\n",
        "      left = mid + 1\n",
        "    else:\n",
        "      right = mid - 1\n",
        "\n",
        "  if abs(arr[mid-1] - target) <= abs(arr[mid] - target):\n",
        "    return mid - 1\n",
        "  else:\n",
        "    return mid"
      ],
      "metadata": {
        "id": "QHM-NGp897t4"
      },
      "execution_count": null,
      "outputs": []
    },
    {
      "cell_type": "code",
      "source": [
        "# 보간탐색: 제일 가까운 index\n",
        "\n",
        "def closest_is(arr, target):\n",
        "  left, right = 0, len(arr) - 1\n",
        "\n",
        "  while left <= right and arr[left] <= target <= arr[right]:\n",
        "    if left == right:\n",
        "      if arr[left] == target:\n",
        "        return left\n",
        "      else:\n",
        "        break\n",
        "\n",
        "    mid = int(left + (right - left) / (arr[right] - arr[left]) * (target - arr[left]))\n",
        "\n",
        "    if mid < left:\n",
        "      mid = left\n",
        "\n",
        "    elif mid > right:\n",
        "      mid = right\n",
        "\n",
        "    if arr[mid] == target:\n",
        "      return mid\n",
        "    elif arr[mid] < target:\n",
        "      left = mid + 1\n",
        "    else:\n",
        "      right = mid - 1\n",
        "\n",
        "  if abs(arr[left-1] - target) <= abs(arr[left] - target):\n",
        "    return left - 1\n",
        "  else:\n",
        "    return left"
      ],
      "metadata": {
        "id": "lgJ1I34nILqU"
      },
      "execution_count": null,
      "outputs": []
    }
  ]
}